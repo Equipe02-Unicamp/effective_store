{
 "cells": [
  {
   "cell_type": "markdown",
   "metadata": {},
   "source": [
    "# Populando a base de dados com example 2"
   ]
  },
  {
   "cell_type": "code",
   "execution_count": 2,
   "metadata": {},
   "outputs": [
    {
     "name": "stdout",
     "output_type": "stream",
     "text": [
      "2020-08-27T20:52:05.143+0000\tconnected to: mongo:27017\n",
      "2020-08-27T20:52:05.143+0000\tdropping: catalog.products\n",
      "2020-08-27T20:52:05.162+0000\timported 50 documents\n"
     ]
    }
   ],
   "source": [
    "!mongoimport -h \"mongo:27017\" --db catalog --collection products --drop --jsonArray --file '../catalog/examples/example02.json'"
   ]
  },
  {
   "cell_type": "markdown",
   "metadata": {},
   "source": [
    "# Conectando python"
   ]
  },
  {
   "cell_type": "code",
   "execution_count": 3,
   "metadata": {},
   "outputs": [
    {
     "name": "stdout",
     "output_type": "stream",
     "text": [
      "Database(MongoClient(host=['mongo:27017'], document_class=dict, tz_aware=False, connect=True), 'catalog')\n"
     ]
    }
   ],
   "source": [
    "from pymongo import MongoClient\n",
    "from pprintpp import pprint\n",
    "import warnings\n",
    "warnings.filterwarnings('ignore')\n",
    "mongoclient = MongoClient('mongo', 27017)\n",
    "db = mongoclient.catalog\n",
    "print(db)"
   ]
  },
  {
   "cell_type": "markdown",
   "metadata": {},
   "source": [
    "# Exibindo 1 produto apenas"
   ]
  },
  {
   "cell_type": "code",
   "execution_count": 4,
   "metadata": {},
   "outputs": [
    {
     "data": {
      "text/plain": [
       "{'_id': ObjectId('5f481cf5995a60ac5700df12'),\n",
       " 'code': 8,\n",
       " 'title': 'Hazelnut in black ceramic bowl',\n",
       " 'type': 'vegetable',\n",
       " 'description': 'Hazelnut in black ceramic bowl on old wooden background. forest wealth. rustic style. selective focus',\n",
       " 'filename': '7.jpg',\n",
       " 'height': 450,\n",
       " 'width': 301,\n",
       " 'rating': 0}"
      ]
     },
     "execution_count": 4,
     "metadata": {},
     "output_type": "execute_result"
    }
   ],
   "source": [
    "db.products.find_one({})"
   ]
  },
  {
   "cell_type": "code",
   "execution_count": null,
   "metadata": {},
   "outputs": [],
   "source": []
  }
 ],
 "metadata": {
  "kernelspec": {
   "display_name": "Python 3",
   "language": "python",
   "name": "python3"
  },
  "language_info": {
   "codemirror_mode": {
    "name": "ipython",
    "version": 3
   },
   "file_extension": ".py",
   "mimetype": "text/x-python",
   "name": "python",
   "nbconvert_exporter": "python",
   "pygments_lexer": "ipython3",
   "version": "3.8.2"
  }
 },
 "nbformat": 4,
 "nbformat_minor": 4
}
