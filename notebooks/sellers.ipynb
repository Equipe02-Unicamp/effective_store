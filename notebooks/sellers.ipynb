{
 "cells": [
  {
   "cell_type": "markdown",
   "metadata": {},
   "source": [
    "# Importando sellers"
   ]
  },
  {
   "cell_type": "code",
   "execution_count": 4,
   "metadata": {},
   "outputs": [
    {
     "name": "stdout",
     "output_type": "stream",
     "text": [
      "2020-09-03T23:33:51.628+0000\tconnected to: localhost\n",
      "2020-09-03T23:33:51.628+0000\tdropping: catalog.sellers\n",
      "2020-09-03T23:33:51.653+0000\timported 500 documents\n"
     ]
    }
   ],
   "source": [
    "!mongoimport --db catalog --collection sellers --drop --jsonArray --file '../catalog/sellers.json'"
   ]
  },
  {
   "cell_type": "markdown",
   "metadata": {},
   "source": [
    "# Conectando python"
   ]
  },
  {
   "cell_type": "code",
   "execution_count": 5,
   "metadata": {},
   "outputs": [
    {
     "name": "stdout",
     "output_type": "stream",
     "text": [
      "Database(MongoClient(host=['localhost:27017'], document_class=dict, tz_aware=False, connect=True), 'catalog')\n"
     ]
    }
   ],
   "source": [
    "from pymongo import MongoClient\n",
    "from pprintpp import pprint\n",
    "import warnings\n",
    "warnings.filterwarnings('ignore')\n",
    "mongoclient = MongoClient('localhost', 27017)\n",
    "db = mongoclient.catalog\n",
    "print(db)"
   ]
  },
  {
   "cell_type": "code",
   "execution_count": 6,
   "metadata": {},
   "outputs": [
    {
     "data": {
      "text/plain": [
       "{'_id': ObjectId('5f517d5f569f3d27013c5052'),\n",
       " 'name': 'Lopez, Harris and Walsh',\n",
       " 'country': 'Solomon Islands',\n",
       " 'catalog': [{'cod': 5434,\n",
       "   'metadata': {'category': 'eletronics'},\n",
       "   'name': 'Television',\n",
       "   'sort_description': 'Ultra',\n",
       "   'price': 7211}]}"
      ]
     },
     "execution_count": 6,
     "metadata": {},
     "output_type": "execute_result"
    }
   ],
   "source": [
    "db.sellers.find_one({})"
   ]
  },
  {
   "cell_type": "code",
   "execution_count": null,
   "metadata": {},
   "outputs": [],
   "source": []
  }
 ],
 "metadata": {
  "kernelspec": {
   "display_name": "Python 3",
   "language": "python",
   "name": "python3"
  },
  "language_info": {
   "codemirror_mode": {
    "name": "ipython",
    "version": 3
   },
   "file_extension": ".py",
   "mimetype": "text/x-python",
   "name": "python",
   "nbconvert_exporter": "python",
   "pygments_lexer": "ipython3",
   "version": "3.8.2"
  }
 },
 "nbformat": 4,
 "nbformat_minor": 4
}
