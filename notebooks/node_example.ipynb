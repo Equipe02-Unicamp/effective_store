{
 "cells": [
  {
   "cell_type": "markdown",
   "metadata": {},
   "source": [
    "# Instalando dependências node"
   ]
  },
  {
   "cell_type": "code",
   "execution_count": 1,
   "metadata": {},
   "outputs": [
    {
     "name": "stderr",
     "output_type": "stream",
     "text": []
    },
    {
     "data": {
      "text/plain": [
       "<Buffer 61 64 64 65 64 20 33 34 20 70 61 63 6b 61 67 65 73 20 66 72 6f 6d 20 31 39 20 63 6f 6e 74 72 69 62 75 74 6f 72 73 20 61 6e 64 20 61 75 64 69 74 65 64 ... 114 more bytes>"
      ]
     },
     "execution_count": 1,
     "metadata": {},
     "output_type": "execute_result"
    }
   ],
   "source": [
    "require('child_process').execSync('npm install')"
   ]
  },
  {
   "cell_type": "code",
   "execution_count": 2,
   "metadata": {},
   "outputs": [
    {
     "name": "stdout",
     "output_type": "stream",
     "text": [
      "Francis Reichel IV\n"
     ]
    }
   ],
   "source": [
    "const faker = require('faker');\n",
    "console.log(faker.name.findName())"
   ]
  },
  {
   "cell_type": "code",
   "execution_count": null,
   "metadata": {},
   "outputs": [],
   "source": [
    "const mongoose = require('mongoose');\n",
    "mongoose.connect('mongodb://localhost/test', {useNewUrlParser: true});"
   ]
  },
  {
   "cell_type": "code",
   "execution_count": null,
   "metadata": {},
   "outputs": [],
   "source": [
    "const kittySchema = new mongoose.Schema({\n",
    "  name: String\n",
    "});"
   ]
  },
  {
   "cell_type": "code",
   "execution_count": null,
   "metadata": {},
   "outputs": [],
   "source": [
    "const Kitten = mongoose.model('Kitten', kittySchema);\n",
    "const silence = new Kitten({ name: 'Silence' });\n",
    "console.log(silence.name)"
   ]
  },
  {
   "cell_type": "code",
   "execution_count": null,
   "metadata": {},
   "outputs": [],
   "source": []
  },
  {
   "cell_type": "code",
   "execution_count": null,
   "metadata": {},
   "outputs": [],
   "source": []
  }
 ],
 "metadata": {
  "kernelspec": {
   "display_name": "Javascript (Node.js)",
   "language": "javascript",
   "name": "javascript"
  },
  "language_info": {
   "file_extension": ".js",
   "mimetype": "application/javascript",
   "name": "javascript",
   "version": "12.18.3"
  }
 },
 "nbformat": 4,
 "nbformat_minor": 4
}
