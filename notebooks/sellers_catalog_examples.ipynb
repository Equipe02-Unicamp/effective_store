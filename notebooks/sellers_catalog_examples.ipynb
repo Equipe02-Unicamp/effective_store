{
 "cells": [
  {
   "cell_type": "markdown",
   "metadata": {},
   "source": [
    "# Importando as bibliotecas necessárias"
   ]
  },
  {
   "cell_type": "code",
   "execution_count": null,
   "metadata": {},
   "outputs": [],
   "source": [
    "const faker = require('faker');\n",
    "const mongoose = require('mongoose');\n",
    "mongoose.set('useCreateIndex', true);\n",
    "const _ = require('lodash');\n",
    "const countryData = require('country-data');\n",
    "console.log('Done!');"
   ]
  },
  {
   "cell_type": "markdown",
   "metadata": {},
   "source": [
    "# Conectando a base de dados usando mongoose"
   ]
  },
  {
   "cell_type": "code",
   "execution_count": null,
   "metadata": {},
   "outputs": [],
   "source": [
    "mongoose.connect('mongodb://localhost/effective_store', { useUnifiedTopology: true, useNewUrlParser: true }).then(() => console.log('Connected'));\n",
    "console.log('Connecting...')"
   ]
  },
  {
   "cell_type": "markdown",
   "metadata": {},
   "source": [
    "# Definindo os países disponíveis"
   ]
  },
  {
   "cell_type": "code",
   "execution_count": null,
   "metadata": {},
   "outputs": [],
   "source": [
    "const availableCountries = _.filter(countryData.countries.all, countrie => countrie.status === 'assigned');\n",
    "console.log('Done!');"
   ]
  },
  {
   "cell_type": "markdown",
   "metadata": {},
   "source": [
    "# Definindo o schema de Invoice"
   ]
  },
  {
   "cell_type": "code",
   "execution_count": null,
   "metadata": {},
   "outputs": [],
   "source": [
    "const InvoiceSchema = new mongoose.Schema({\n",
    "  invoiceNumber: {\n",
    "    type: Number,\n",
    "    unique: true\n",
    "  },\n",
    "  dueDate: Date,\n",
    "  status: {\n",
    "    type: String,\n",
    "    enum: ['Payed', 'Waiting Payment', 'Canceled']\n",
    "  },\n",
    "  totalAmount: Number,\n",
    "  invoiceDoc: [{\n",
    "    sellerCode: {\n",
    "      type: String,\n",
    "      unique: true\n",
    "    },\n",
    "    docNumber: String,\n",
    "    productList: [{\n",
    "      name: String,\n",
    "      price: Number\n",
    "    }]\n",
    "  }]\n",
    "})\n",
    "console.log('Done!');"
   ]
  },
  {
   "cell_type": "markdown",
   "metadata": {},
   "source": [
    "# Definindo o model de Invoice"
   ]
  },
  {
   "cell_type": "code",
   "execution_count": null,
   "metadata": {},
   "outputs": [],
   "source": [
    "const Invoice = mongoose.model('Invoice', InvoiceSchema);\n",
    "console.log('Done!');"
   ]
  },
  {
   "cell_type": "markdown",
   "metadata": {},
   "source": [
    "# Definindo o schema de Sellers"
   ]
  },
  {
   "cell_type": "code",
   "execution_count": null,
   "metadata": {},
   "outputs": [],
   "source": [
    "const SellerSchema = new mongoose.Schema({\n",
    "  code: {\n",
    "    type: Number,\n",
    "    unique: true\n",
    "  },\n",
    "  name: String,\n",
    "  country: {\n",
    "    code: { type: String, enum: availableCountries.map(country => country.alpha2) },\n",
    "    name: { type: String, enum: availableCountries.map(country => country.name) },\n",
    "    emojiFlag: { type: String, enum: availableCountries.map(country => country.emoji) }\n",
    "  },\n",
    "  invoices: [InvoiceSchema],\n",
    "  createdAt: Date,\n",
    "  productCatalog: [{\n",
    "    name: String,\n",
    "    price: Number\n",
    "  }]\n",
    "});\n",
    "console.log('Done!');"
   ]
  },
  {
   "cell_type": "markdown",
   "metadata": {},
   "source": [
    "# Definindo o model de Seller"
   ]
  },
  {
   "cell_type": "code",
   "execution_count": null,
   "metadata": {},
   "outputs": [],
   "source": [
    "const Seller = mongoose.model('Seller', SellerSchema);\n",
    "console.log('Done!');"
   ]
  },
  {
   "cell_type": "markdown",
   "metadata": {},
   "source": [
    "# Gerando dados de sellers"
   ]
  },
  {
   "cell_type": "code",
   "execution_count": null,
   "metadata": {},
   "outputs": [],
   "source": [
    "const SELLERS_LENGTH = 500;\n",
    "const PRODUCTS_LENGTH = 100;\n",
    "\n",
    "const availableProducts = _.range(PRODUCTS_LENGTH).map(() => ({\n",
    "  name: faker.commerce.product(),\n",
    "  price: parseFloat(faker.commerce.price()),\n",
    "  description: faker.commerce.productDescription(),\n",
    "}));\n",
    "\n",
    "const sellers = _.range(SELLERS_LENGTH).map((sellerIndex) => {\n",
    "  const productCatalogSize = _.random(1, PRODUCTS_LENGTH)\n",
    "  const country = _.sample(availableCountries)\n",
    "  const productCatalog = []\n",
    "  _.range(productCatalogSize).forEach(() => {\n",
    "    const productSample = _.sample(availableProducts)\n",
    "    if (!productCatalog.includes(productSample)) {\n",
    "      productCatalog.push(productSample)\n",
    "    }\n",
    "  });\n",
    "  \n",
    "  return new Seller({\n",
    "    code: sellerIndex,\n",
    "    name: faker.company.companyName(),\n",
    "    country: { code: country.alpha2, name: country.name, emojiFlag: country.emoji },\n",
    "    createdAt: faker.date.past(10),\n",
    "    productCatalog\n",
    "  });\n",
    "});\n",
    "console.log('Done!');"
   ]
  },
  {
   "cell_type": "markdown",
   "metadata": {},
   "source": [
    "# Gerando dados de invoices"
   ]
  },
  {
   "cell_type": "code",
   "execution_count": null,
   "metadata": {},
   "outputs": [],
   "source": []
  },
  {
   "cell_type": "markdown",
   "metadata": {},
   "source": [
    "# Populando base de dados\n",
    "Limpamos a collection de sellers e após isto inserimos os dados gerados"
   ]
  },
  {
   "cell_type": "code",
   "execution_count": null,
   "metadata": {},
   "outputs": [],
   "source": [
    "console.log('Cleaning sellers collection');\n",
    "Seller.deleteMany({}, () => console.log('cleared'));\n",
    "console.log('Inserting generated data');\n",
    "Seller.insertMany(sellers, () => console.log('Inserted'));\n",
    "console.log('Processing...');"
   ]
  },
  {
   "cell_type": "markdown",
   "metadata": {},
   "source": [
    "# Query 1 - Lojistas (Sellers) com maior número de produtos disponíveis na plataforma"
   ]
  },
  {
   "cell_type": "code",
   "execution_count": null,
   "metadata": {},
   "outputs": [],
   "source": [
    "Seller.aggregate([\n",
    "  {\n",
    "    $project: {\n",
    "      _id: 0,\n",
    "      name: 1,\n",
    "      productCatalogSize: { $cond: { if: { $isArray: \"$productCatalog\" }, then: { $size: \"$productCatalog\" }, else: \"NA\"} }\n",
    "    }\n",
    "  },\n",
    "  {\n",
    "    $sort : { productCatalogSize : -1 }\n",
    "  },\n",
    "  {\n",
    "    $limit: 10\n",
    "  }\n",
    "], (errors, result) => console.table(result))\n",
    "console.log('Processing...')"
   ]
  },
  {
   "cell_type": "markdown",
   "metadata": {},
   "source": [
    "# Query 2 - Produtos mais comuns entre os lojistas associados"
   ]
  },
  {
   "cell_type": "code",
   "execution_count": null,
   "metadata": {},
   "outputs": [],
   "source": [
    "Seller.aggregate([\n",
    "  {\n",
    "    $unwind: '$productCatalog'\n",
    "  },\n",
    "  {\n",
    "    $group: {\n",
    "      _id: '$productCatalog.name',\n",
    "      counts: { $sum: 1 }\n",
    "    }\n",
    "  },\n",
    "  {\n",
    "    $sort: { counts: -1 }\n",
    "  }\n",
    "], (errors, result) => console.table(result))\n",
    "console.log('Processing...')"
   ]
  },
  {
   "cell_type": "markdown",
   "metadata": {},
   "source": [
    "# Query 3 - Países com mais lojistas"
   ]
  },
  {
   "cell_type": "code",
   "execution_count": null,
   "metadata": {},
   "outputs": [],
   "source": [
    "Seller.aggregate([\n",
    "  {\n",
    "    $group: {\n",
    "      _id: '$country.name',\n",
    "      counts: { $sum: 1 }\n",
    "    }\n",
    "  },\n",
    "  {\n",
    "    $sort: { counts: -1 }\n",
    "  },\n",
    "  {\n",
    "    $limit: 10\n",
    "  }\n",
    "], (errors, result) => console.table(result))\n",
    "console.log('Processing...')"
   ]
  },
  {
   "cell_type": "markdown",
   "metadata": {},
   "source": [
    "# Query 4 - Produtos com mais lojistas por região"
   ]
  },
  {
   "cell_type": "code",
   "execution_count": null,
   "metadata": {},
   "outputs": [],
   "source": [
    "Seller.aggregate([\n",
    "  {\n",
    "    $unwind: '$productCatalog'\n",
    "  },\n",
    "  {\n",
    "    $group: {\n",
    "      _id: '$productCatalog.name',\n",
    "      country: { $first : \"$country.name\" },\n",
    "      counts: { $sum: 1 },\n",
    "    }\n",
    "  },\n",
    "  {\n",
    "    $sort: { country: -1 }\n",
    "  }\n",
    "], (errors, result) => console.table(result))\n",
    "console.log('Processing...')"
   ]
  },
  {
   "cell_type": "markdown",
   "metadata": {},
   "source": [
    "# Query 5 - Lista dos lojistas (Sellers) ordenada pelos mais novos"
   ]
  },
  {
   "cell_type": "code",
   "execution_count": null,
   "metadata": {},
   "outputs": [],
   "source": [
    "Seller.aggregate([\n",
    "  {\n",
    "    $project: {\n",
    "      _id: 0,\n",
    "      name: 1,\n",
    "      createdAt: 1\n",
    "    }\n",
    "  },\n",
    "  {\n",
    "    $sort: { createdAt: -1 }\n",
    "  },\n",
    "  {\n",
    "    $limit: 10\n",
    "  }\n",
    "], (errors, result) => console.table(result))\n",
    "console.log('Processing...')"
   ]
  },
  {
   "cell_type": "markdown",
   "metadata": {},
   "source": [
    "# Query 6 - Lista dos lojistas (Sellers) ordenada pelos mais antiga"
   ]
  },
  {
   "cell_type": "code",
   "execution_count": null,
   "metadata": {},
   "outputs": [],
   "source": [
    "Seller.aggregate([\n",
    "  {\n",
    "    $project: {\n",
    "      _id: 0,\n",
    "      name: 1,\n",
    "      createdAt: 1\n",
    "    }\n",
    "  },\n",
    "  {\n",
    "    $sort: { createdAt: 1 }\n",
    "  },\n",
    "  {\n",
    "    $limit: 10\n",
    "  }\n",
    "], (errors, result) => console.table(result))\n",
    "console.log('Processing...')"
   ]
  },
  {
   "cell_type": "markdown",
   "metadata": {},
   "source": [
    "# Query 7 - Lista das faturas que estão em aberto para os lojistas(Sellers) com menos de 1 ano de mercado"
   ]
  },
  {
   "cell_type": "code",
   "execution_count": null,
   "metadata": {},
   "outputs": [],
   "source": []
  },
  {
   "cell_type": "markdown",
   "metadata": {},
   "source": [
    "# Query 8 - Lista das faturas acima de 1000,00"
   ]
  },
  {
   "cell_type": "code",
   "execution_count": null,
   "metadata": {},
   "outputs": [],
   "source": []
  }
 ],
 "metadata": {
  "kernelspec": {
   "display_name": "Javascript (Node.js)",
   "language": "javascript",
   "name": "javascript"
  },
  "language_info": {
   "file_extension": ".js",
   "mimetype": "application/javascript",
   "name": "javascript",
   "version": "12.18.3"
  }
 },
 "nbformat": 4,
 "nbformat_minor": 4
}
