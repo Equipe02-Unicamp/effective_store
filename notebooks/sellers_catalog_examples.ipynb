{
 "cells": [
  {
   "cell_type": "markdown",
   "metadata": {},
   "source": [
    "# Importando as bibliotecas necessárias"
   ]
  },
  {
   "cell_type": "code",
   "execution_count": 1,
   "metadata": {},
   "outputs": [],
   "source": [
    "const faker = require('faker');\n",
    "const mongoose = require('mongoose');\n",
    "const _ = require('lodash');"
   ]
  },
  {
   "cell_type": "markdown",
   "metadata": {},
   "source": [
    "# Conectando a base de dados usando mongoose"
   ]
  },
  {
   "cell_type": "code",
   "execution_count": 2,
   "metadata": {},
   "outputs": [
    {
     "name": "stdout",
     "output_type": "stream",
     "text": [
      "Connecting...\n"
     ]
    },
    {
     "name": "stderr",
     "output_type": "stream",
     "text": [
      "(node:102) DeprecationWarning: current Server Discovery and Monitoring engine is deprecated, and will be removed in a future version. To use the new Server Discover and Monitoring engine, pass option { useUnifiedTopology: true } to the MongoClient constructor.\n"
     ]
    },
    {
     "name": "stdout",
     "output_type": "stream",
     "text": [
      "Connected\n"
     ]
    }
   ],
   "source": [
    "mongoose.connect('mongodb://localhost/effective_store', { useNewUrlParser: true }).then(() => console.log('Connected'));\n",
    "console.log('Connecting...')"
   ]
  },
  {
   "cell_type": "markdown",
   "metadata": {},
   "source": [
    "# Definindo o schema de Sellers"
   ]
  },
  {
   "cell_type": "code",
   "execution_count": 3,
   "metadata": {},
   "outputs": [],
   "source": [
    "const sellerSchema = new mongoose.Schema({\n",
    "  name: String,\n",
    "  country: String,\n",
    "  productCatalog: [{\n",
    "    name: String,\n",
    "    price: Number\n",
    "  }]\n",
    "});"
   ]
  },
  {
   "cell_type": "markdown",
   "metadata": {},
   "source": [
    "# Definindo o model de Seller"
   ]
  },
  {
   "cell_type": "code",
   "execution_count": 4,
   "metadata": {},
   "outputs": [],
   "source": [
    "const Seller = mongoose.model('Seller', sellerSchema);"
   ]
  },
  {
   "cell_type": "markdown",
   "metadata": {},
   "source": [
    "# Gerando dados de sellers"
   ]
  },
  {
   "cell_type": "code",
   "execution_count": 5,
   "metadata": {},
   "outputs": [],
   "source": [
    "const SELLERS_LENGTH = 500;\n",
    "const PRODUCTS_LENGTH = 100;\n",
    "\n",
    "const availableProducts = _.range(PRODUCTS_LENGTH).map(() => ({\n",
    "  name: faker.commerce.product(),\n",
    "  price: parseFloat(faker.commerce.price())\n",
    "}));\n",
    "\n",
    "const sellers = _.range(SELLERS_LENGTH).map(() => {\n",
    "  const productCatalogSize = _.random(1, PRODUCTS_LENGTH)\n",
    "  const productCatalog = []\n",
    "  _.range(productCatalogSize).forEach(() => {\n",
    "    const productSample = _.sample(availableProducts)\n",
    "    if (!productCatalog.includes(productSample)) {\n",
    "      productCatalog.push(productSample)\n",
    "    }\n",
    "  });\n",
    "  return new Seller({ \n",
    "    name: faker.company.companyName(),\n",
    "    country: faker.address.country(),\n",
    "    productCatalog\n",
    "  });\n",
    "});"
   ]
  },
  {
   "cell_type": "markdown",
   "metadata": {},
   "source": [
    "# Populando base de dados"
   ]
  },
  {
   "cell_type": "code",
   "execution_count": 6,
   "metadata": {},
   "outputs": [
    {
     "name": "stdout",
     "output_type": "stream",
     "text": [
      "Processing...\n",
      "cleared\n",
      "Inserted\n"
     ]
    }
   ],
   "source": [
    "Seller.deleteMany({}, () => console.log('cleared'));\n",
    "Seller.insertMany(sellers, () => console.log('Inserted'));\n",
    "console.log('Processing...')"
   ]
  },
  {
   "cell_type": "markdown",
   "metadata": {},
   "source": [
    "# Testando um único resultado"
   ]
  },
  {
   "cell_type": "code",
   "execution_count": 10,
   "metadata": {},
   "outputs": [
    {
     "name": "stdout",
     "output_type": "stream",
     "text": [
      "Processing...\n",
      "{\n",
      "  name: 'Zulauf Inc',\n",
      "  country: 'Argentina',\n",
      "  productCatalog: [\n",
      "    { name: 'Car', price: 47 },\n",
      "    { name: 'Sausages', price: 400 },\n",
      "    { name: 'Soap', price: 911 },\n",
      "    { name: 'Towels', price: 145 },\n",
      "    { name: 'Cheese', price: 747 },\n",
      "    { name: 'Pants', price: 7 },\n",
      "    { name: 'Fish', price: 857 },\n",
      "    { name: 'Table', price: 933 },\n",
      "    { name: 'Sausages', price: 711 },\n",
      "    { name: 'Soap', price: 392 },\n",
      "    { name: 'Hat', price: 684 },\n",
      "    { name: 'Tuna', price: 620 },\n",
      "    { name: 'Sausages', price: 893 },\n",
      "    { name: 'Gloves', price: 761 },\n",
      "    { name: 'Shoes', price: 660 },\n",
      "    { name: 'Bike', price: 208 },\n",
      "    { name: 'Ball', price: 554 },\n",
      "    { name: 'Soap', price: 495 },\n",
      "    { name: 'Gloves', price: 63 },\n",
      "    { name: 'Car', price: 751 },\n",
      "    { name: 'Keyboard', price: 201 },\n",
      "    { name: 'Chicken', price: 58 },\n",
      "    { name: 'Bike', price: 754 },\n",
      "    { name: 'Shirt', price: 433 },\n",
      "    { name: 'Bacon', price: 706 },\n",
      "    { name: 'Cheese', price: 988 },\n",
      "    { name: 'Tuna', price: 376 },\n",
      "    { name: 'Soap', price: 525 },\n",
      "    { name: 'Tuna', price: 946 },\n",
      "    { name: 'Sausages', price: 729 },\n",
      "    { name: 'Gloves', price: 409 },\n",
      "    { name: 'Pizza', price: 629 },\n",
      "    { name: 'Pants', price: 497 },\n",
      "    { name: 'Salad', price: 573 },\n",
      "    { name: 'Bacon', price: 173 },\n",
      "    { name: 'Chips', price: 939 },\n",
      "    { name: 'Tuna', price: 873 },\n",
      "    { name: 'Shirt', price: 365 },\n",
      "    { name: 'Computer', price: 282 },\n",
      "    { name: 'Mouse', price: 942 },\n",
      "    { name: 'Keyboard', price: 321 },\n",
      "    { name: 'Shirt', price: 893 },\n",
      "    { name: 'Bike', price: 402 },\n",
      "    { name: 'Computer', price: 44 },\n",
      "    { name: 'Towels', price: 208 },\n",
      "    { name: 'Bacon', price: 358 },\n",
      "    { name: 'Towels', price: 112 },\n",
      "    { name: 'Chicken', price: 74 },\n",
      "    { name: 'Keyboard', price: 468 },\n",
      "    { name: 'Bike', price: 978 },\n",
      "    { name: 'Hat', price: 590 },\n",
      "    { name: 'Salad', price: 154 },\n",
      "    { name: 'Computer', price: 880 },\n",
      "    { name: 'Soap', price: 500 },\n",
      "    { name: 'Bike', price: 838 },\n",
      "    { name: 'Chips', price: 859 },\n",
      "    { name: 'Chicken', price: 50 },\n",
      "    { name: 'Ball', price: 112 },\n",
      "    { name: 'Shirt', price: 345 }\n",
      "  ],\n",
      "  __v: 0\n",
      "}\n"
     ]
    }
   ],
   "source": [
    "Seller.findOne({}, { _id: 0, productCatalog: { _id: 0 } }, (err, result) => console.log(result))\n",
    "console.log('Processing...')"
   ]
  },
  {
   "cell_type": "markdown",
   "metadata": {},
   "source": [
    "# Query 1 - Lojistas com maior número de produtos disponíveis na plataforma"
   ]
  },
  {
   "cell_type": "code",
   "execution_count": null,
   "metadata": {},
   "outputs": [],
   "source": []
  }
 ],
 "metadata": {
  "kernelspec": {
   "display_name": "Javascript (Node.js)",
   "language": "javascript",
   "name": "javascript"
  },
  "language_info": {
   "file_extension": ".js",
   "mimetype": "application/javascript",
   "name": "javascript",
   "version": "12.18.3"
  }
 },
 "nbformat": 4,
 "nbformat_minor": 4
}
