{
 "cells": [
  {
   "cell_type": "markdown",
   "metadata": {},
   "source": [
    "# Importando as bibliotecas necessárias"
   ]
  },
  {
   "cell_type": "code",
   "execution_count": null,
   "metadata": {},
   "outputs": [],
   "source": [
    "const faker = require('faker');\n",
    "const mongoose = require('mongoose');\n",
    "const _ = require('lodash');"
   ]
  },
  {
   "cell_type": "markdown",
   "metadata": {},
   "source": [
    "# Conectando a base de dados usando mongoose"
   ]
  },
  {
   "cell_type": "code",
   "execution_count": null,
   "metadata": {},
   "outputs": [],
   "source": [
    "mongoose.connect('mongodb://localhost/effective_store', { useNewUrlParser: true }).then(() => console.log('Connected'));\n",
    "console.log('Connecting...')"
   ]
  },
  {
   "cell_type": "markdown",
   "metadata": {},
   "source": [
    "# Definindo o schema de Sellers"
   ]
  },
  {
   "cell_type": "code",
   "execution_count": null,
   "metadata": {},
   "outputs": [],
   "source": [
    "const sellerSchema = new mongoose.Schema({\n",
    "  name: String,\n",
    "  country: String,\n",
    "  productCatalog: [{\n",
    "    name: String,\n",
    "    price: Number\n",
    "  }]\n",
    "});"
   ]
  },
  {
   "cell_type": "markdown",
   "metadata": {},
   "source": [
    "# Definindo o model de Seller"
   ]
  },
  {
   "cell_type": "code",
   "execution_count": null,
   "metadata": {},
   "outputs": [],
   "source": [
    "const Seller = mongoose.model('Seller', sellerSchema);"
   ]
  },
  {
   "cell_type": "markdown",
   "metadata": {},
   "source": [
    "# Gerando dados de sellers"
   ]
  },
  {
   "cell_type": "code",
   "execution_count": null,
   "metadata": {},
   "outputs": [],
   "source": [
    "const SELLERS_LENGTH = 500;\n",
    "const PRODUCTS_LENGTH = 100;\n",
    "\n",
    "const availableProducts = _.range(PRODUCTS_LENGTH).map(() => ({\n",
    "  name: faker.commerce.product(),\n",
    "  price: parseFloat(faker.commerce.price())\n",
    "}));\n",
    "\n",
    "const sellers = _.range(SELLERS_LENGTH).map(() => {\n",
    "  const productCatalogSize = _.random(1, PRODUCTS_LENGTH)\n",
    "  const productCatalog = []\n",
    "  _.range(productCatalogSize).forEach(() => {\n",
    "    const productSample = _.sample(availableProducts)\n",
    "    if (!productCatalog.includes(productSample)) {\n",
    "      productCatalog.push(productSample)\n",
    "    }\n",
    "  });\n",
    "  return new Seller({ \n",
    "    name: faker.company.companyName(),\n",
    "    country: faker.address.country(),\n",
    "    productCatalog\n",
    "  });\n",
    "});"
   ]
  },
  {
   "cell_type": "markdown",
   "metadata": {},
   "source": [
    "# Populando base de dados"
   ]
  },
  {
   "cell_type": "code",
   "execution_count": null,
   "metadata": {},
   "outputs": [],
   "source": [
    "Seller.deleteMany({}, () => console.log('cleared'));\n",
    "Seller.insertMany(sellers, () => console.log('Inserted'));\n",
    "console.log('Processing...')"
   ]
  },
  {
   "cell_type": "markdown",
   "metadata": {},
   "source": [
    "# Testando um único resultado"
   ]
  },
  {
   "cell_type": "code",
   "execution_count": null,
   "metadata": {},
   "outputs": [],
   "source": [
    "Seller.findOne({}, { _id: 0, productCatalog: { _id: 0 } }, (err, result) => console.log(result))\n",
    "console.log('Processing...')"
   ]
  },
  {
   "cell_type": "markdown",
   "metadata": {},
   "source": [
    "# Query 1 - Lojistas (Sellers) com maior número de produtos disponíveis na plataforma"
   ]
  },
  {
   "cell_type": "code",
   "execution_count": null,
   "metadata": {},
   "outputs": [],
   "source": [
    "Seller.aggregate([\n",
    "  {\n",
    "    $project: {\n",
    "      _id: 0,\n",
    "      name: 1,\n",
    "      productCatalogSize: { $cond: { if: { $isArray: \"$productCatalog\" }, then: { $size: \"$productCatalog\" }, else: \"NA\"} }\n",
    "    }\n",
    "  },\n",
    "  {\n",
    "    $sort : { productCatalogSize : -1 }\n",
    "  },\n",
    "  {\n",
    "    $limit: 10\n",
    "  }\n",
    "], (errors, result) => console.log(result))\n",
    "console.log('Processing...')"
   ]
  },
  {
   "cell_type": "markdown",
   "metadata": {},
   "source": [
    "# Query 2 - Produtos mais comuns entre os lojistas associados"
   ]
  },
  {
   "cell_type": "code",
   "execution_count": null,
   "metadata": {},
   "outputs": [],
   "source": [
    "Seller.aggregate([\n",
    "  {\n",
    "    $unwind: '$productCatalog'\n",
    "  },\n",
    "  {\n",
    "    $group: {\n",
    "      _id: '$productCatalog.name',\n",
    "      counts: { $sum: 1 }\n",
    "    }\n",
    "  },\n",
    "  {\n",
    "    $sort: { counts: -1 }\n",
    "  }\n",
    "], (errors, result) => console.log(result))\n",
    "console.log('Processing...')"
   ]
  },
  {
   "cell_type": "markdown",
   "metadata": {},
   "source": [
    "# Query 3 - Países com mais logistas"
   ]
  },
  {
   "cell_type": "code",
   "execution_count": null,
   "metadata": {},
   "outputs": [],
   "source": [
    "Seller.aggregate([\n",
    "  {\n",
    "    $group: {\n",
    "      _id: '$country',\n",
    "      counts: { $sum: 1 }\n",
    "    }\n",
    "  },\n",
    "  {\n",
    "    $sort: { counts: -1 }\n",
    "  },\n",
    "  {\n",
    "    $limit: 10\n",
    "  }\n",
    "], (errors, result) => console.log(result))\n",
    "console.log('Processing...')"
   ]
  },
  {
   "cell_type": "code",
   "execution_count": null,
   "metadata": {},
   "outputs": [],
   "source": []
  }
 ],
 "metadata": {
  "kernelspec": {
   "display_name": "Javascript (Node.js)",
   "language": "javascript",
   "name": "javascript"
  },
  "language_info": {
   "file_extension": ".js",
   "mimetype": "application/javascript",
   "name": "javascript",
   "version": "12.18.3"
  }
 },
 "nbformat": 4,
 "nbformat_minor": 4
}
