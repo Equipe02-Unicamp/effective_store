{
 "cells": [
  {
   "cell_type": "markdown",
   "metadata": {},
   "source": [
    "# Importando as bibliotecas necessárias"
   ]
  },
  {
   "cell_type": "code",
   "execution_count": 2,
   "metadata": {},
   "outputs": [
    {
     "data": {
      "text/plain": [
       "Mongoose {\n",
       "  connections: [\n",
       "    NativeConnection {\n",
       "      base: [Circular],\n",
       "      collections: {},\n",
       "      models: {},\n",
       "      config: [Object],\n",
       "      replica: false,\n",
       "      options: null,\n",
       "      otherDbs: [],\n",
       "      relatedDbs: {},\n",
       "      states: [Object: null prototype],\n",
       "      _readyState: 0,\n",
       "      _closeCalled: false,\n",
       "      _hasOpened: false,\n",
       "      plugins: [],\n",
       "      id: 0,\n",
       "      _listening: false\n",
       "    }\n",
       "  ],\n",
       "  models: {},\n",
       "  modelSchemas: {},\n",
       "  options: {\n",
       "    pluralization: true,\n",
       "    useCreateIndex: true,\n",
       "    [Symbol(mongoose:default)]: true\n",
       "  },\n",
       "  _pluralize: [Function: pluralize],\n",
       "  Schema: [Function: Schema] {\n",
       "    reserved: [Object: null prototype] {\n",
       "      validate: 1,\n",
       "      toObject: 1,\n",
       "      schema: 1,\n",
       "      save: 1,\n",
       "      remove: 1,\n",
       "      populated: 1,\n",
       "      isNew: 1,\n",
       "      isModified: 1,\n",
       "      init: 1,\n",
       "      get: 1,\n",
       "      errors: 1,\n",
       "      collection: 1,\n",
       "      removeListener: 1,\n",
       "      on: 1,\n",
       "      listeners: 1,\n",
       "      emit: 1,\n",
       "      prototype: 1\n",
       "    },\n",
       "    Types: {\n",
       "      String: [Function],\n",
       "      Number: [Function],\n",
       "      Boolean: [Function],\n",
       "      DocumentArray: [Function],\n",
       "      Embedded: [Function],\n",
       "      Array: [Function],\n",
       "      Buffer: [Function],\n",
       "      Date: [Function],\n",
       "      ObjectId: [Function],\n",
       "      Mixed: [Function],\n",
       "      Decimal: [Function],\n",
       "      Decimal128: [Function],\n",
       "      Map: [Function],\n",
       "      Oid: [Function],\n",
       "      Object: [Function],\n",
       "      Bool: [Function],\n",
       "      ObjectID: [Function]\n",
       "    },\n",
       "    ObjectId: [Function: ObjectId] {\n",
       "      schemaName: 'ObjectId',\n",
       "      defaultOptions: {},\n",
       "      get: [Function],\n",
       "      set: [Function: set],\n",
       "      _checkRequired: [Function],\n",
       "      _cast: [Function: castObjectId],\n",
       "      cast: [Function: cast],\n",
       "      checkRequired: [Function]\n",
       "    }\n",
       "  },\n",
       "  model: [Function],\n",
       "  plugins: [\n",
       "    [ [Function], [Object] ],\n",
       "    [ [Function], [Object] ],\n",
       "    [ [Function], [Object] ],\n",
       "    [ [Function], [Object] ],\n",
       "    [ [Function: trackTransaction], [Object] ]\n",
       "  ]\n",
       "}"
      ]
     },
     "execution_count": 2,
     "metadata": {},
     "output_type": "execute_result"
    }
   ],
   "source": [
    "const faker = require('faker');\n",
    "const mongoose = require('mongoose');\n",
    "const _ = require('lodash');\n",
    "const countryData = require('country-data');\n",
    "mongoose.set('useCreateIndex', true);"
   ]
  },
  {
   "cell_type": "markdown",
   "metadata": {},
   "source": [
    "# Conectando a base de dados usando mongoose"
   ]
  },
  {
   "cell_type": "code",
   "execution_count": 3,
   "metadata": {},
   "outputs": [
    {
     "name": "stdout",
     "output_type": "stream",
     "text": [
      "Connecting...\n",
      "Connected\n"
     ]
    }
   ],
   "source": [
    "mongoose.connect('mongodb://localhost/effective_store', { useUnifiedTopology: true, useNewUrlParser: true }).then(() => console.log('Connected'));\n",
    "console.log('Connecting...')"
   ]
  },
  {
   "cell_type": "markdown",
   "metadata": {},
   "source": [
    "# Definindo os países disponíveis"
   ]
  },
  {
   "cell_type": "code",
   "execution_count": 4,
   "metadata": {},
   "outputs": [],
   "source": [
    "const availableCountries = _.filter(countryData.countries.all, countrie => countrie.status === 'assigned');"
   ]
  },
  {
   "cell_type": "markdown",
   "metadata": {},
   "source": [
    "# Definindo o schema de Invoice"
   ]
  },
  {
   "cell_type": "code",
   "execution_count": 5,
   "metadata": {},
   "outputs": [],
   "source": [
    "const invoiceSchema = new mongoose.Schema({\n",
    "    invoiceNumber: String,\n",
    "    dueDate: Date,\n",
    "    status: String,\n",
    "    totalAmount: Number,\n",
    "    invoiceDoc: [{\n",
    "        vendorUniqueCode: String,\n",
    "        docNumber: String,\n",
    "        productList: Array\n",
    "    }]\n",
    "})"
   ]
  },
  {
   "cell_type": "markdown",
   "metadata": {},
   "source": [
    "# Definindo o schema de Sellers"
   ]
  },
  {
   "cell_type": "code",
   "execution_count": 6,
   "metadata": {},
   "outputs": [],
   "source": [
    "const sellerSchema = new mongoose.Schema({\n",
    "  code: {\n",
    "    type: Number,\n",
    "    unique: true\n",
    "  },\n",
    "  name: String,\n",
    "  country: {\n",
    "    code: { type: String, enum: availableCountries.map(country => country.alpha2) },\n",
    "    name: { type: String, enum: availableCountries.map(country => country.name) },\n",
    "    emojiFlag: { type: String, enum: availableCountries.map(country => country.emoji) }\n",
    "  },\n",
    "  invoice: [{\n",
    "      invoiceNumber: String\n",
    "  }],\n",
    "  createdAt: Date,\n",
    "  productCatalog: [{\n",
    "    name: String,\n",
    "    price: Number\n",
    "  }]\n",
    "});"
   ]
  },
  {
   "cell_type": "markdown",
   "metadata": {},
   "source": [
    "# Definindo o model de Seller"
   ]
  },
  {
   "cell_type": "code",
   "execution_count": 7,
   "metadata": {},
   "outputs": [],
   "source": [
    "const Seller = mongoose.model('Seller', sellerSchema);"
   ]
  },
  {
   "cell_type": "markdown",
   "metadata": {},
   "source": [
    "# Gerando dados de sellers"
   ]
  },
  {
   "cell_type": "code",
   "execution_count": null,
   "metadata": {},
   "outputs": [],
   "source": [
    "const SELLERS_LENGTH = 500;\n",
    "const PRODUCTS_LENGTH = 100;\n",
    "\n",
    "const availableProducts = _.range(PRODUCTS_LENGTH).map(() => ({\n",
    "  name: faker.commerce.product(),\n",
    "  price: parseFloat(faker.commerce.price())\n",
    "}));\n",
    "\n",
    "const sellers = _.range(SELLERS_LENGTH).map((sellerIndex) => {\n",
    "  const productCatalogSize = _.random(1, PRODUCTS_LENGTH)\n",
    "  const country = _.sample(availableCountries)\n",
    "  const productCatalog = []\n",
    "  _.range(productCatalogSize).forEach(() => {\n",
    "    const productSample = _.sample(availableProducts)\n",
    "    if (!productCatalog.includes(productSample)) {\n",
    "      productCatalog.push(productSample)\n",
    "    }\n",
    "  });\n",
    "  \n",
    "  return new Seller({\n",
    "    code: sellerIndex,\n",
    "    name: faker.company.companyName(),\n",
    "    country: { code: country.alpha2, name: country.name, emojiFlag: country.emoji },\n",
    "    createdAt: faker.date.past(10),\n",
    "    productCatalog\n",
    "  });\n",
    "});"
   ]
  },
  {
   "cell_type": "markdown",
   "metadata": {},
   "source": [
    "# Populando base de dados"
   ]
  },
  {
   "cell_type": "code",
   "execution_count": null,
   "metadata": {},
   "outputs": [],
   "source": [
    "Seller.deleteMany({}, () => console.log('cleared'));\n",
    "Seller.insertMany(sellers, () => console.log('Inserted'));\n",
    "console.log('Processing...')"
   ]
  },
  {
   "cell_type": "markdown",
   "metadata": {},
   "source": [
    "# Query 1 - Lojistas (Sellers) com maior número de produtos disponíveis na plataforma"
   ]
  },
  {
   "cell_type": "code",
   "execution_count": null,
   "metadata": {},
   "outputs": [],
   "source": [
    "Seller.aggregate([\n",
    "  {\n",
    "    $project: {\n",
    "      _id: 0,\n",
    "      name: 1,\n",
    "      productCatalogSize: { $cond: { if: { $isArray: \"$productCatalog\" }, then: { $size: \"$productCatalog\" }, else: \"NA\"} }\n",
    "    }\n",
    "  },\n",
    "  {\n",
    "    $sort : { productCatalogSize : -1 }\n",
    "  },\n",
    "  {\n",
    "    $limit: 10\n",
    "  }\n",
    "], (errors, result) => console.table(result))\n",
    "console.log('Processing...')"
   ]
  },
  {
   "cell_type": "markdown",
   "metadata": {},
   "source": [
    "# Query 2 - Produtos mais comuns entre os lojistas associados"
   ]
  },
  {
   "cell_type": "code",
   "execution_count": null,
   "metadata": {},
   "outputs": [],
   "source": [
    "Seller.aggregate([\n",
    "  {\n",
    "    $unwind: '$productCatalog'\n",
    "  },\n",
    "  {\n",
    "    $group: {\n",
    "      _id: '$productCatalog.name',\n",
    "      counts: { $sum: 1 }\n",
    "    }\n",
    "  },\n",
    "  {\n",
    "    $sort: { counts: -1 }\n",
    "  }\n",
    "], (errors, result) => console.table(result))\n",
    "console.log('Processing...')"
   ]
  },
  {
   "cell_type": "markdown",
   "metadata": {},
   "source": [
    "# Query 3 - Países com mais logistas"
   ]
  },
  {
   "cell_type": "code",
   "execution_count": null,
   "metadata": {},
   "outputs": [],
   "source": [
    "Seller.aggregate([\n",
    "  {\n",
    "    $group: {\n",
    "      _id: '$country.name',\n",
    "      counts: { $sum: 1 }\n",
    "    }\n",
    "  },\n",
    "  {\n",
    "    $sort: { counts: -1 }\n",
    "  },\n",
    "  {\n",
    "    $limit: 10\n",
    "  }\n",
    "], (errors, result) => console.table(result))\n",
    "console.log('Processing...')"
   ]
  },
  {
   "cell_type": "markdown",
   "metadata": {},
   "source": [
    "# Query 4 - Produtos com mais lojistas por região"
   ]
  },
  {
   "cell_type": "code",
   "execution_count": null,
   "metadata": {},
   "outputs": [],
   "source": [
    "Seller.aggregate([\n",
    "  {\n",
    "    $unwind: '$productCatalog'\n",
    "  },\n",
    "  {\n",
    "    $group: {\n",
    "      _id: '$productCatalog.name',\n",
    "      country: { $first : \"$country.name\" },\n",
    "      counts: { $sum: 1 }\n",
    "    }\n",
    "  },\n",
    "  {\n",
    "    $sort: { country: -1 }\n",
    "  }\n",
    "], (errors, result) => console.table(result))\n",
    "console.log('Processing...')"
   ]
  },
  {
   "cell_type": "markdown",
   "metadata": {},
   "source": [
    "# Query 5 - Lista dos logistas (Sellers) ordenada pelos mais novos"
   ]
  },
  {
   "cell_type": "code",
   "execution_count": null,
   "metadata": {},
   "outputs": [],
   "source": [
    "Seller.aggregate([\n",
    "  {\n",
    "    $project: {\n",
    "      _id: 0,\n",
    "      name: 1,\n",
    "      createdAt: 1\n",
    "    }\n",
    "  },\n",
    "  {\n",
    "    $sort: { createdAt: -1 }\n",
    "  },\n",
    "  {\n",
    "    $limit: 10\n",
    "  }\n",
    "], (errors, result) => console.table(result))\n",
    "console.log('Processing...')"
   ]
  },
  {
   "cell_type": "markdown",
   "metadata": {},
   "source": [
    "# Query 6 - Lista dos logistas (Sellers) ordenada pelos mais antiga"
   ]
  },
  {
   "cell_type": "code",
   "execution_count": null,
   "metadata": {},
   "outputs": [],
   "source": [
    "Seller.aggregate([\n",
    "  {\n",
    "    $project: {\n",
    "      _id: 0,\n",
    "      name: 1,\n",
    "      createdAt: 1\n",
    "    }\n",
    "  },\n",
    "  {\n",
    "    $sort: { createdAt: -1 }\n",
    "  },\n",
    "  {\n",
    "    $limit: 10\n",
    "  }\n",
    "], (errors, result) => console.table(result))\n",
    "console.log('Processing...')"
   ]
  },
  {
   "cell_type": "code",
   "execution_count": null,
   "metadata": {},
   "outputs": [],
   "source": []
  }
 ],
 "metadata": {
  "kernelspec": {
   "display_name": "Javascript (Node.js)",
   "language": "javascript",
   "name": "javascript"
  },
  "language_info": {
   "file_extension": ".js",
   "mimetype": "application/javascript",
   "name": "javascript",
   "version": "12.18.3"
  }
 },
 "nbformat": 4,
 "nbformat_minor": 4
}
