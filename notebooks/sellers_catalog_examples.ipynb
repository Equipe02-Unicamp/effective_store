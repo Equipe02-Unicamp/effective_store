{
 "cells": [
  {
   "cell_type": "markdown",
   "metadata": {},
   "source": [
    "# Carregando Ambiente"
   ]
  },
  {
   "cell_type": "code",
   "execution_count": 1,
   "metadata": {},
   "outputs": [
    {
     "name": "stdout",
     "output_type": "stream",
     "text": [
      "Connecting...\n",
      "Connected\n"
     ]
    }
   ],
   "source": [
    "// Importando as bibliotecas necessárias\n",
    "const faker = require('faker');\n",
    "const mongoose = require('mongoose');\n",
    "mongoose.set('useCreateIndex', true);\n",
    "const _ = require('lodash');\n",
    "const countryData = require('country-data');\n",
    "const moment = require('moment');\n",
    "\n",
    "// Conectando a base de dados usando mongoose\n",
    "mongoose.connect('mongodb://localhost/effective_store', { useUnifiedTopology: true, useNewUrlParser: true }).then(() => console.log('Connected'));\n",
    "console.log('Connecting...')"
   ]
  },
  {
   "cell_type": "markdown",
   "metadata": {},
   "source": [
    "# Subindo Dados e Schemas na Base"
   ]
  },
  {
   "cell_type": "code",
   "execution_count": 2,
   "metadata": {},
   "outputs": [
    {
     "name": "stdout",
     "output_type": "stream",
     "text": [
      "Done!\n"
     ]
    }
   ],
   "source": [
    "// Definindo os países disponíveis\n",
    "const availableCountries = _.filter(countryData.countries.all, countrie => countrie.status === 'assigned');\n",
    "\n",
    "// Definindo o status de pagamento disponível\n",
    "const availableStatus = ['Payed', 'Waiting Payment', 'Canceled']\n",
    "\n",
    "// Definindo schema de produto\n",
    "const ProductSchema = new mongoose.Schema({\n",
    "  name: String,\n",
    "  description: String,\n",
    "  price: Number\n",
    "});\n",
    "\n",
    "// Definindo o schema de Invoice\n",
    "const InvoiceSchema = new mongoose.Schema({\n",
    "  invoiceCode: {\n",
    "    type: String,\n",
    "    unique: true\n",
    "  },\n",
    "  dueDate: Date,\n",
    "  status: {\n",
    "    type: String,\n",
    "    enum: availableStatus\n",
    "  },\n",
    "  productList: [ProductSchema],\n",
    "  totalAmount: Number,\n",
    "  invoiceDoc: {\n",
    "    sellerCode: {\n",
    "      type: String,\n",
    "      unique: true\n",
    "    },\n",
    "    docCode: { \n",
    "      type: String,\n",
    "      unique: true\n",
    "    }\n",
    "  }\n",
    "})\n",
    "\n",
    "// Definindo o model de Invoice\n",
    "const Invoice = mongoose.model('Invoice', InvoiceSchema);\n",
    "\n",
    "// Definindo o schema de Sellers\n",
    "const SellerSchema = new mongoose.Schema({\n",
    "  code: {\n",
    "    type: String,\n",
    "    unique: true\n",
    "  },\n",
    "  name: String,\n",
    "  country: {\n",
    "    code: { type: String, enum: availableCountries.map(country => country.alpha2) },\n",
    "    name: { type: String, enum: availableCountries.map(country => country.name) },\n",
    "    emojiFlag: { type: String, enum: availableCountries.map(country => country.emoji) }\n",
    "  },\n",
    "  invoices: [InvoiceSchema],\n",
    "  createdAt: Date,\n",
    "  productCatalog: [ProductSchema]\n",
    "});\n",
    "\n",
    "// Definindo o model de Seller\n",
    "const Seller = mongoose.model('Seller', SellerSchema);\n",
    "\n",
    "\n",
    "console.log('Done!');"
   ]
  },
  {
   "cell_type": "markdown",
   "metadata": {},
   "source": [
    "# Gerando dados de sellers"
   ]
  },
  {
   "cell_type": "code",
   "execution_count": 3,
   "metadata": {},
   "outputs": [
    {
     "name": "stdout",
     "output_type": "stream",
     "text": [
      "Done!\n"
     ]
    }
   ],
   "source": [
    "const SELLERS_LENGTH = 500;\n",
    "const PRODUCTS_LENGTH = 100;\n",
    "\n",
    "const availableProducts = _.range(PRODUCTS_LENGTH).map(() => ({\n",
    "  name: faker.commerce.product(),\n",
    "  price: parseFloat(faker.commerce.price()),\n",
    "  description: faker.commerce.productDescription(),\n",
    "}));\n",
    "\n",
    "const sellers = _.range(SELLERS_LENGTH).map((sellerIndex) => {\n",
    "  const productCatalogSize = _.random(1, PRODUCTS_LENGTH)\n",
    "  const country = _.sample(availableCountries)\n",
    "  const productCatalog = []\n",
    "  _.range(productCatalogSize).forEach(() => {\n",
    "    const productSample = _.sample(availableProducts)\n",
    "    if (!productCatalog.includes(productSample)) {\n",
    "      productCatalog.push(productSample)\n",
    "    }\n",
    "  });\n",
    "  \n",
    "  return new Seller({\n",
    "    code: _.uniqueId(`seller_cod_${sellerIndex}_`),\n",
    "    name: faker.company.companyName(),\n",
    "    country: { code: country.alpha2, name: country.name, emojiFlag: country.emoji },\n",
    "    createdAt: faker.date.past(10),\n",
    "    productCatalog\n",
    "  });\n",
    "});\n",
    "console.log('Done!');"
   ]
  },
  {
   "cell_type": "markdown",
   "metadata": {},
   "source": [
    "# Gerando dados de invoices"
   ]
  },
  {
   "cell_type": "code",
   "execution_count": 4,
   "metadata": {},
   "outputs": [
    {
     "name": "stdout",
     "output_type": "stream",
     "text": [
      "Done!\n"
     ]
    }
   ],
   "source": [
    "const MAX_SALES_BY_A_SELLER = 5\n",
    "\n",
    "const salesNumbers = _.range(MAX_SALES_BY_A_SELLER)\n",
    "const setSellerInvoice = seller => {\n",
    "  const invoices = []\n",
    "  _.range(_.sample(salesNumbers)).forEach((index) => {\n",
    "    const productCatalogRange = _.range(seller.productCatalog.length)\n",
    "    const invoiceProductsLength = _.sample(productCatalogRange)\n",
    "    const productList = _.range(invoiceProductsLength).map(() => _.sample(seller.productCatalog))\n",
    "    if (!_.isEmpty(productList)) {\n",
    "      invoices.push(new Invoice({\n",
    "        invoiceCode: _.uniqueId(`invoice_${seller.code}`),\n",
    "        dueDate: faker.date.past(10),\n",
    "        status: _.sample(availableStatus),\n",
    "        productList,\n",
    "        totalAmount: _.reduce(_.map(productList, product => product.price), (price, memo) => price + memo , 0),\n",
    "        invoiceDoc: {\n",
    "          sellerCode: seller.code,\n",
    "          docCode: _.uniqueId(`doc_${seller.code}`)\n",
    "        }\n",
    "      }))\n",
    "    }\n",
    "  })\n",
    "\n",
    "  seller.invoices = invoices\n",
    "}\n",
    "\n",
    "sellers.forEach(setSellerInvoice)\n",
    "console.log('Done!');"
   ]
  },
  {
   "cell_type": "markdown",
   "metadata": {},
   "source": [
    "# Populando base de dados\n",
    "Limpamos a collection de sellers e após isto inserimos os dados gerados\n",
    "## Atenção aguardar o log de Inserted"
   ]
  },
  {
   "cell_type": "code",
   "execution_count": 5,
   "metadata": {},
   "outputs": [
    {
     "name": "stdout",
     "output_type": "stream",
     "text": [
      "Cleaning sellers collection\n",
      "Processing...\n",
      "cleared\n",
      "Inserting generated data\n",
      "Inserted\n"
     ]
    }
   ],
   "source": [
    "console.log('Cleaning sellers collection')\n",
    "Seller.deleteMany({}, () => {\n",
    "  console.log('cleared')\n",
    "  console.log('Inserting generated data')\n",
    "  Seller.insertMany(sellers, () => console.log('Inserted') )\n",
    "})\n",
    "\n",
    "console.log('Processing...');"
   ]
  },
  {
   "cell_type": "markdown",
   "metadata": {},
   "source": [
    "# Query 1 - Lojistas (Sellers) com maior número de produtos disponíveis na plataforma"
   ]
  },
  {
   "cell_type": "code",
   "execution_count": 6,
   "metadata": {},
   "outputs": [
    {
     "name": "stdout",
     "output_type": "stream",
     "text": [
      "Processing...\n",
      "┌─────────┬─────────────────────┬────────────────────┐\n",
      "│ (index) │        name         │ productCatalogSize │\n",
      "├─────────┼─────────────────────┼────────────────────┤\n",
      "│    0    │   'Koss - Dooley'   │         68         │\n",
      "│    1    │   'Crooks Group'    │         68         │\n",
      "│    2    │     'Rohan Inc'     │         67         │\n",
      "│    3    │   'Borer - Mills'   │         67         │\n",
      "│    4    │ 'Beahan - MacGyver' │         66         │\n",
      "│    5    │ 'Lebsack - Walter'  │         65         │\n",
      "│    6    │  'Greenfelder LLC'  │         65         │\n",
      "│    7    │ 'Leannon - Labadie' │         65         │\n",
      "│    8    │ 'Ritchie and Sons'  │         64         │\n",
      "│    9    │  'Nolan - Conroy'   │         64         │\n",
      "└─────────┴─────────────────────┴────────────────────┘\n"
     ]
    }
   ],
   "source": [
    "Seller.aggregate([\n",
    "  {\n",
    "    $project: {\n",
    "      _id: 0,\n",
    "      name: 1,\n",
    "      productCatalogSize: { $cond: { if: { $isArray: \"$productCatalog\" }, then: { $size: \"$productCatalog\" }, else: \"NA\"} }\n",
    "    }\n",
    "  },\n",
    "  {\n",
    "    $sort : { productCatalogSize : -1 }\n",
    "  },\n",
    "  {\n",
    "    $limit: 10\n",
    "  }\n",
    "], (errors, result) => console.table(result))\n",
    "console.log('Processing...');"
   ]
  },
  {
   "cell_type": "markdown",
   "metadata": {},
   "source": [
    "# Query 2 - Produtos mais comuns entre os lojistas associados"
   ]
  },
  {
   "cell_type": "code",
   "execution_count": 7,
   "metadata": {},
   "outputs": [
    {
     "name": "stdout",
     "output_type": "stream",
     "text": [
      "Processing...\n",
      "┌─────────┬────────────┬────────┐\n",
      "│ (index) │    _id     │ counts │\n",
      "├─────────┼────────────┼────────┤\n",
      "│    0    │  'Shoes'   │  1351  │\n",
      "│    1    │  'Pizza'   │  1335  │\n",
      "│    2    │  'Pants'   │  1143  │\n",
      "│    3    │   'Bike'   │  1121  │\n",
      "│    4    │  'Salad'   │  1114  │\n",
      "│    5    │  'Table'   │  949   │\n",
      "│    6    │   'Car'    │  949   │\n",
      "│    7    │   'Ball'   │  944   │\n",
      "│    8    │ 'Chicken'  │  944   │\n",
      "│    9    │   'Soap'   │  929   │\n",
      "│   10    │  'Bacon'   │  760   │\n",
      "│   11    │ 'Computer' │  759   │\n",
      "│   12    │  'Cheese'  │  756   │\n",
      "│   13    │  'Chair'   │  754   │\n",
      "│   14    │  'Gloves'  │  748   │\n",
      "│   15    │ 'Sausages' │  730   │\n",
      "│   16    │ 'Keyboard' │  592   │\n",
      "│   17    │   'Tuna'   │  568   │\n",
      "│   18    │  'Chips'   │  564   │\n",
      "│   19    │  'Mouse'   │  544   │\n",
      "│   20    │   'Hat'    │  418   │\n",
      "│   21    │   'Fish'   │  387   │\n",
      "│   22    │  'Towels'  │  378   │\n",
      "│   23    │  'Shirt'   │  201   │\n",
      "└─────────┴────────────┴────────┘\n"
     ]
    }
   ],
   "source": [
    "Seller.aggregate([\n",
    "  {\n",
    "    $unwind: '$productCatalog'\n",
    "  },\n",
    "  {\n",
    "    $group: {\n",
    "      _id: '$productCatalog.name',\n",
    "      counts: { $sum: 1 }\n",
    "    }\n",
    "  },\n",
    "  {\n",
    "    $sort: { counts: -1 }\n",
    "  }\n",
    "], (errors, result) => console.table(result))\n",
    "console.log('Processing...');"
   ]
  },
  {
   "cell_type": "markdown",
   "metadata": {},
   "source": [
    "# Query 3 - Países com mais lojistas"
   ]
  },
  {
   "cell_type": "code",
   "execution_count": 8,
   "metadata": {},
   "outputs": [
    {
     "name": "stdout",
     "output_type": "stream",
     "text": [
      "Processing...\n",
      "┌─────────┬─────────────────────────────────────┬────────┐\n",
      "│ (index) │                 _id                 │ counts │\n",
      "├─────────┼─────────────────────────────────────┼────────┤\n",
      "│    0    │               'Peru'                │   7    │\n",
      "│    1    │             'Botswana'              │   6    │\n",
      "│    2    │            'Switzerland'            │   6    │\n",
      "│    3    │             'Greenland'             │   5    │\n",
      "│    4    │             'Slovakia'              │   5    │\n",
      "│    5    │              'Mayotte'              │   5    │\n",
      "│    6    │              'Guinea'               │   5    │\n",
      "│    7    │               'Chad'                │   5    │\n",
      "│    8    │              'Germany'              │   5    │\n",
      "│    9    │ 'Heard Island And McDonald Islands' │   5    │\n",
      "└─────────┴─────────────────────────────────────┴────────┘\n"
     ]
    }
   ],
   "source": [
    "Seller.aggregate([\n",
    "  {\n",
    "    $group: {\n",
    "      _id: '$country.name',\n",
    "      counts: { $sum: 1 }\n",
    "    }\n",
    "  },\n",
    "  {\n",
    "    $sort: { counts: -1 }\n",
    "  },\n",
    "  {\n",
    "    $limit: 10\n",
    "  }\n",
    "], (errors, result) => console.table(result))\n",
    "console.log('Processing...');"
   ]
  },
  {
   "cell_type": "markdown",
   "metadata": {},
   "source": [
    "# Query 4 - Produtos com mais lojistas por região"
   ]
  },
  {
   "cell_type": "code",
   "execution_count": 9,
   "metadata": {},
   "outputs": [
    {
     "name": "stdout",
     "output_type": "stream",
     "text": [
      "Processing...\n",
      "┌─────────┬────────────┬──────────────┬────────┐\n",
      "│ (index) │    _id     │   country    │ counts │\n",
      "├─────────┼────────────┼──────────────┼────────┤\n",
      "│    0    │  'Shirt'   │ 'Sri Lanka'  │  201   │\n",
      "│    1    │  'Towels'  │ 'Mauritania' │  378   │\n",
      "│    2    │   'Fish'   │  'Iceland'   │  387   │\n",
      "│    3    │   'Bike'   │    'Chad'    │  1121  │\n",
      "│    4    │  'Bacon'   │    'Chad'    │  760   │\n",
      "│    5    │  'Chips'   │    'Chad'    │  564   │\n",
      "│    6    │  'Pants'   │    'Chad'    │  1143  │\n",
      "│    7    │   'Car'    │    'Chad'    │  949   │\n",
      "│    8    │   'Tuna'   │    'Chad'    │  568   │\n",
      "│    9    │ 'Sausages' │    'Chad'    │  730   │\n",
      "│   10    │  'Table'   │    'Chad'    │  949   │\n",
      "│   11    │  'Mouse'   │    'Chad'    │  544   │\n",
      "│   12    │ 'Keyboard' │    'Chad'    │  592   │\n",
      "│   13    │  'Gloves'  │    'Chad'    │  748   │\n",
      "│   14    │  'Cheese'  │    'Chad'    │  756   │\n",
      "│   15    │   'Ball'   │    'Chad'    │  944   │\n",
      "│   16    │  'Chair'   │    'Chad'    │  754   │\n",
      "│   17    │  'Shoes'   │    'Chad'    │  1351  │\n",
      "│   18    │ 'Computer' │    'Chad'    │  759   │\n",
      "│   19    │ 'Chicken'  │    'Chad'    │  944   │\n",
      "│   20    │   'Hat'    │    'Chad'    │  418   │\n",
      "│   21    │  'Salad'   │    'Chad'    │  1114  │\n",
      "│   22    │  'Pizza'   │    'Chad'    │  1335  │\n",
      "│   23    │   'Soap'   │    'Chad'    │  929   │\n",
      "└─────────┴────────────┴──────────────┴────────┘\n"
     ]
    }
   ],
   "source": [
    "Seller.aggregate([\n",
    "  {\n",
    "    $unwind: '$productCatalog'\n",
    "  },\n",
    "  {\n",
    "    $group: {\n",
    "      _id: '$productCatalog.name',\n",
    "      country: { $first : \"$country.name\" },\n",
    "      counts: { $sum: 1 },\n",
    "    }\n",
    "  },\n",
    "  {\n",
    "    $sort: { country: -1 }\n",
    "  }\n",
    "], (errors, result) => console.table(result));\n",
    "console.log('Processing...');"
   ]
  },
  {
   "cell_type": "markdown",
   "metadata": {},
   "source": [
    "# Query 5 - Lista dos lojistas (Sellers) ordenada pelos mais novos"
   ]
  },
  {
   "cell_type": "code",
   "execution_count": 10,
   "metadata": {},
   "outputs": [
    {
     "name": "stdout",
     "output_type": "stream",
     "text": [
      "Processing...\n",
      "┌─────────┬───────────────────────────────────┬──────────────────────────┐\n",
      "│ (index) │               name                │        createdAt         │\n",
      "├─────────┼───────────────────────────────────┼──────────────────────────┤\n",
      "│    0    │        'Stamm - Lindgren'         │ 2020-09-06T21:34:05.827Z │\n",
      "│    1    │ 'Ruecker, Christiansen and Ferry' │ 2020-09-04T16:39:34.254Z │\n",
      "│    2    │          'Marks - Kozey'          │ 2020-08-12T14:26:47.080Z │\n",
      "│    3    │         'Kuhn - Lockman'          │ 2020-08-09T04:36:10.953Z │\n",
      "│    4    │            'Grant Inc'            │ 2020-08-02T00:44:30.241Z │\n",
      "│    5    │          'Jenkins - Orn'          │ 2020-07-27T15:18:43.292Z │\n",
      "│    6    │         'Emard - Carroll'         │ 2020-07-24T22:03:59.335Z │\n",
      "│    7    │           'Mueller LLC'           │ 2020-07-23T14:39:45.380Z │\n",
      "│    8    │      'Konopelski - Schultz'       │ 2020-07-16T05:14:59.681Z │\n",
      "│    9    │        'Waelchi - Windler'        │ 2020-07-13T18:42:30.492Z │\n",
      "└─────────┴───────────────────────────────────┴──────────────────────────┘\n"
     ]
    }
   ],
   "source": [
    "Seller.aggregate([\n",
    "  {\n",
    "    $project: {\n",
    "      _id: 0,\n",
    "      name: 1,\n",
    "      createdAt: 1\n",
    "    }\n",
    "  },\n",
    "  {\n",
    "    $sort: { createdAt: -1 }\n",
    "  },\n",
    "  {\n",
    "    $limit: 10\n",
    "  }\n",
    "], (errors, result) => console.table(result));\n",
    "console.log('Processing...');"
   ]
  },
  {
   "cell_type": "markdown",
   "metadata": {},
   "source": [
    "# Query 6 - Lista dos lojistas (Sellers) ordenada pelos mais antiga"
   ]
  },
  {
   "cell_type": "code",
   "execution_count": 11,
   "metadata": {},
   "outputs": [
    {
     "name": "stdout",
     "output_type": "stream",
     "text": [
      "Processing...\n",
      "┌─────────┬────────────────────────────────┬──────────────────────────┐\n",
      "│ (index) │              name              │        createdAt         │\n",
      "├─────────┼────────────────────────────────┼──────────────────────────┤\n",
      "│    0    │         'Hartmann LLC'         │ 2010-09-19T14:37:31.497Z │\n",
      "│    1    │       'Pfannerstill Inc'       │ 2010-09-26T23:49:59.898Z │\n",
      "│    2    │         'Crona Group'          │ 2010-10-07T05:27:46.321Z │\n",
      "│    3    │       'Hauck - Kerluke'        │ 2010-10-12T01:47:22.860Z │\n",
      "│    4    │       'Herman and Sons'        │ 2010-10-12T13:16:17.875Z │\n",
      "│    5    │ 'Nienow, Romaguera and Barton' │ 2010-10-14T12:19:53.203Z │\n",
      "│    6    │         'Lang - Marks'         │ 2010-10-15T04:41:08.383Z │\n",
      "│    7    │          'Mohr Group'          │ 2010-10-23T13:19:20.753Z │\n",
      "│    8    │        'Robel - Kuphal'        │ 2010-10-24T13:58:57.548Z │\n",
      "│    9    │      'Donnelly - Spencer'      │ 2010-10-25T06:57:23.135Z │\n",
      "└─────────┴────────────────────────────────┴──────────────────────────┘\n"
     ]
    }
   ],
   "source": [
    "Seller.aggregate([\n",
    "  {\n",
    "    $project: {\n",
    "      _id: 0,\n",
    "      name: 1,\n",
    "      createdAt: 1\n",
    "    }\n",
    "  },\n",
    "  {\n",
    "    $sort: { createdAt: 1 }\n",
    "  },\n",
    "  {\n",
    "    $limit: 10\n",
    "  }\n",
    "], (errors, result) => console.table(result));\n",
    "console.log('Processing...');"
   ]
  },
  {
   "cell_type": "markdown",
   "metadata": {},
   "source": [
    "# Query 7 - Lista das faturas que estão em aberto para os lojistas(Sellers) com menos de 1 ano de mercado"
   ]
  },
  {
   "cell_type": "code",
   "execution_count": 23,
   "metadata": {},
   "outputs": [
    {
     "name": "stdout",
     "output_type": "stream",
     "text": [
      "Processing...\n",
      "┌─────────┬────────────────────────┬───────────────────────────────────────────────────┐\n",
      "│ (index) │          name          │                     invoices                      │\n",
      "├─────────┼────────────────────────┼───────────────────────────────────────────────────┤\n",
      "│    0    │     'Mueller LLC'      │  { status: 'Waiting Payment', totalAmount: 923 }  │\n",
      "│    1    │   'Greenfelder LLC'    │ { status: 'Waiting Payment', totalAmount: 4930 }  │\n",
      "│    2    │   'Greenfelder LLC'    │ { status: 'Waiting Payment', totalAmount: 10727 } │\n",
      "│    3    │    'Rogahn - Ferry'    │ { status: 'Waiting Payment', totalAmount: 4099 }  │\n",
      "│    4    │    'Rogahn - Ferry'    │ { status: 'Waiting Payment', totalAmount: 5990 }  │\n",
      "│    5    │     'Kunde - Yost'     │ { status: 'Waiting Payment', totalAmount: 10513 } │\n",
      "│    6    │    'Bode and Sons'     │ { status: 'Waiting Payment', totalAmount: 11039 } │\n",
      "│    7    │    'Bode and Sons'     │ { status: 'Waiting Payment', totalAmount: 2951 }  │\n",
      "│    8    │ 'Hettinger - Emmerich' │ { status: 'Waiting Payment', totalAmount: 18819 } │\n",
      "│    9    │ 'Hettinger - Emmerich' │ { status: 'Waiting Payment', totalAmount: 23489 } │\n",
      "└─────────┴────────────────────────┴───────────────────────────────────────────────────┘\n"
     ]
    }
   ],
   "source": [
    "Seller.aggregate([\n",
    "  {\n",
    "    $unwind: '$invoices'\n",
    "  },\n",
    "  {\n",
    "    $match: { $and: [{ 'invoices.status': 'Waiting Payment' }, { createdAt: { $gt: new Date(moment().subtract('year', 1).format()) } }] }\n",
    "  },\n",
    "  {\n",
    "    $project: {\n",
    "        '_id': 0,\n",
    "        'name': 1,\n",
    "        ''\n",
    "        'invoices.status': 1,\n",
    "        'invoices.totalAmount': 1\n",
    "    }\n",
    "  },\n",
    "  {\n",
    "    $limit: 10\n",
    "  }\n",
    "], (errors, result) => console.table(result))\n",
    "console.log('Processing...');"
   ]
  },
  {
   "cell_type": "markdown",
   "metadata": {},
   "source": [
    "# Query 8 - Lista das faturas acima de 1000,00"
   ]
  },
  {
   "cell_type": "code",
   "execution_count": null,
   "metadata": {},
   "outputs": [],
   "source": [
    "Seller.aggregate([\n",
    "  {\n",
    "    $unwind: '$invoices'\n",
    "  },\n",
    "  {\n",
    "    $match: { 'invoices.totalAmount': { $gt: 1000 } }\n",
    "  },\n",
    "  {\n",
    "    $sort: { 'invoices.totalAmout': 1 }\n",
    "  },\n",
    "  {\n",
    "    $project: {\n",
    "        '_id': 0,\n",
    "        'invoices.invoiceCode': 1,\n",
    "        'invoices.totalAmount': 1\n",
    "    }\n",
    "  },\n",
    "  {\n",
    "    $limit: 10\n",
    "  }\n",
    "], (errors, result) => console.table(result))\n",
    "console.log('Processing...');"
   ]
  },
  {
   "cell_type": "code",
   "execution_count": null,
   "metadata": {},
   "outputs": [],
   "source": []
  },
  {
   "cell_type": "code",
   "execution_count": null,
   "metadata": {},
   "outputs": [],
   "source": []
  }
 ],
 "metadata": {
  "kernelspec": {
   "display_name": "Javascript (Node.js)",
   "language": "javascript",
   "name": "javascript"
  },
  "language_info": {
   "file_extension": ".js",
   "mimetype": "application/javascript",
   "name": "javascript",
   "version": "12.18.3"
  }
 },
 "nbformat": 4,
 "nbformat_minor": 4
}
