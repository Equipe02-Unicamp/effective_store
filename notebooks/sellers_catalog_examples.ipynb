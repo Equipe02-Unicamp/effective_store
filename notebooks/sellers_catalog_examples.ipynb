{
 "cells": [
  {
   "cell_type": "markdown",
   "metadata": {},
   "source": [
    "# Importando as bibliotecas necessárias"
   ]
  },
  {
   "cell_type": "code",
   "execution_count": 1,
   "metadata": {},
   "outputs": [
    {
     "data": {
      "text/plain": [
       "Mongoose {\n",
       "  connections: [\n",
       "    NativeConnection {\n",
       "      base: [Circular],\n",
       "      collections: {},\n",
       "      models: {},\n",
       "      config: [Object],\n",
       "      replica: false,\n",
       "      options: null,\n",
       "      otherDbs: [],\n",
       "      relatedDbs: {},\n",
       "      states: [Object: null prototype],\n",
       "      _readyState: 0,\n",
       "      _closeCalled: false,\n",
       "      _hasOpened: false,\n",
       "      plugins: [],\n",
       "      id: 0,\n",
       "      _listening: false\n",
       "    }\n",
       "  ],\n",
       "  models: {},\n",
       "  modelSchemas: {},\n",
       "  options: {\n",
       "    pluralization: true,\n",
       "    useCreateIndex: true,\n",
       "    [Symbol(mongoose:default)]: true\n",
       "  },\n",
       "  _pluralize: [Function: pluralize],\n",
       "  Schema: [Function: Schema] {\n",
       "    reserved: [Object: null prototype] {\n",
       "      validate: 1,\n",
       "      toObject: 1,\n",
       "      schema: 1,\n",
       "      save: 1,\n",
       "      remove: 1,\n",
       "      populated: 1,\n",
       "      isNew: 1,\n",
       "      isModified: 1,\n",
       "      init: 1,\n",
       "      get: 1,\n",
       "      errors: 1,\n",
       "      collection: 1,\n",
       "      removeListener: 1,\n",
       "      on: 1,\n",
       "      listeners: 1,\n",
       "      emit: 1,\n",
       "      prototype: 1\n",
       "    },\n",
       "    Types: {\n",
       "      String: [Function],\n",
       "      Number: [Function],\n",
       "      Boolean: [Function],\n",
       "      DocumentArray: [Function],\n",
       "      Embedded: [Function],\n",
       "      Array: [Function],\n",
       "      Buffer: [Function],\n",
       "      Date: [Function],\n",
       "      ObjectId: [Function],\n",
       "      Mixed: [Function],\n",
       "      Decimal: [Function],\n",
       "      Decimal128: [Function],\n",
       "      Map: [Function],\n",
       "      Oid: [Function],\n",
       "      Object: [Function],\n",
       "      Bool: [Function],\n",
       "      ObjectID: [Function]\n",
       "    },\n",
       "    ObjectId: [Function: ObjectId] {\n",
       "      schemaName: 'ObjectId',\n",
       "      defaultOptions: {},\n",
       "      get: [Function],\n",
       "      set: [Function: set],\n",
       "      _checkRequired: [Function],\n",
       "      _cast: [Function: castObjectId],\n",
       "      cast: [Function: cast],\n",
       "      checkRequired: [Function]\n",
       "    }\n",
       "  },\n",
       "  model: [Function],\n",
       "  plugins: [\n",
       "    [ [Function], [Object] ],\n",
       "    [ [Function], [Object] ],\n",
       "    [ [Function], [Object] ],\n",
       "    [ [Function], [Object] ],\n",
       "    [ [Function: trackTransaction], [Object] ]\n",
       "  ]\n",
       "}"
      ]
     },
     "execution_count": 1,
     "metadata": {},
     "output_type": "execute_result"
    }
   ],
   "source": [
    "const faker = require('faker');\n",
    "const mongoose = require('mongoose');\n",
    "const _ = require('lodash');\n",
    "const countryData = require('country-data');\n",
    "mongoose.set('useCreateIndex', true);"
   ]
  },
  {
   "cell_type": "markdown",
   "metadata": {},
   "source": [
    "# Conectando a base de dados usando mongoose"
   ]
  },
  {
   "cell_type": "code",
   "execution_count": 2,
   "metadata": {},
   "outputs": [
    {
     "name": "stdout",
     "output_type": "stream",
     "text": [
      "Connecting...\n",
      "Connected\n"
     ]
    }
   ],
   "source": [
    "mongoose.connect('mongodb://localhost/effective_store', { useUnifiedTopology: true, useNewUrlParser: true }).then(() => console.log('Connected'));\n",
    "console.log('Connecting...')"
   ]
  },
  {
   "cell_type": "markdown",
   "metadata": {},
   "source": [
    "# Definindo os países disponíveis"
   ]
  },
  {
   "cell_type": "code",
   "execution_count": 3,
   "metadata": {},
   "outputs": [],
   "source": [
    "const availableCountries = _.filter(countryData.countries.all, countrie => countrie.status === 'assigned');"
   ]
  },
  {
   "cell_type": "markdown",
   "metadata": {},
   "source": [
    "# Definindo o schema de Invoice"
   ]
  },
  {
   "cell_type": "code",
   "execution_count": 4,
   "metadata": {},
   "outputs": [],
   "source": [
    "const invoiceSchema = new mongoose.Schema({\n",
    "    invoiceNumber: String,\n",
    "    dueDate: Date,\n",
    "    status: String,\n",
    "    totalAmount: Number,\n",
    "    invoiceDoc: [{\n",
    "        vendorUniqueCode: String,\n",
    "        docNumber: String,\n",
    "        productList: Array\n",
    "    }]\n",
    "})"
   ]
  },
  {
   "cell_type": "markdown",
   "metadata": {},
   "source": [
    "# Definindo o schema de Sellers"
   ]
  },
  {
   "cell_type": "code",
   "execution_count": 5,
   "metadata": {},
   "outputs": [],
   "source": [
    "const sellerSchema = new mongoose.Schema({\n",
    "  code: {\n",
    "    type: Number,\n",
    "    unique: true\n",
    "  },\n",
    "  name: String,\n",
    "  country: {\n",
    "    code: { type: String, enum: availableCountries.map(country => country.alpha2) },\n",
    "    name: { type: String, enum: availableCountries.map(country => country.name) },\n",
    "    emojiFlag: { type: String, enum: availableCountries.map(country => country.emoji) }\n",
    "  },\n",
    "  invoice: [{\n",
    "      invoiceNumber: String\n",
    "  }],\n",
    "  createdAt: Date,\n",
    "  productCatalog: [{\n",
    "    name: String,\n",
    "    price: Number\n",
    "  }]\n",
    "});"
   ]
  },
  {
   "cell_type": "markdown",
   "metadata": {},
   "source": [
    "# Definindo o model de Seller"
   ]
  },
  {
   "cell_type": "code",
   "execution_count": 6,
   "metadata": {},
   "outputs": [],
   "source": [
    "const Seller = mongoose.model('Seller', sellerSchema);"
   ]
  },
  {
   "cell_type": "markdown",
   "metadata": {},
   "source": [
    "# Gerando dados de sellers"
   ]
  },
  {
   "cell_type": "code",
   "execution_count": 7,
   "metadata": {},
   "outputs": [],
   "source": [
    "const SELLERS_LENGTH = 500;\n",
    "const PRODUCTS_LENGTH = 100;\n",
    "\n",
    "const availableProducts = _.range(PRODUCTS_LENGTH).map(() => ({\n",
    "  name: faker.commerce.product(),\n",
    "  price: parseFloat(faker.commerce.price()),\n",
    "  description: faker.commerce.productDescription(),\n",
    "}));\n",
    "\n",
    "const sellers = _.range(SELLERS_LENGTH).map((sellerIndex) => {\n",
    "  const productCatalogSize = _.random(1, PRODUCTS_LENGTH)\n",
    "  const country = _.sample(availableCountries)\n",
    "  const productCatalog = []\n",
    "  _.range(productCatalogSize).forEach(() => {\n",
    "    const productSample = _.sample(availableProducts)\n",
    "    if (!productCatalog.includes(productSample)) {\n",
    "      productCatalog.push(productSample)\n",
    "    }\n",
    "  });\n",
    "  \n",
    "  return new Seller({\n",
    "    code: sellerIndex,\n",
    "    name: faker.company.companyName(),\n",
    "    country: { code: country.alpha2, name: country.name, emojiFlag: country.emoji },\n",
    "    createdAt: faker.date.past(10),\n",
    "    productCatalog\n",
    "  });\n",
    "});"
   ]
  },
  {
   "cell_type": "markdown",
   "metadata": {},
   "source": [
    "# Populando base de dados"
   ]
  },
  {
   "cell_type": "code",
   "execution_count": 8,
   "metadata": {},
   "outputs": [
    {
     "name": "stdout",
     "output_type": "stream",
     "text": [
      "Processing...\n",
      "cleared\n",
      "Inserted\n"
     ]
    }
   ],
   "source": [
    "Seller.deleteMany({}, () => console.log('cleared'));\n",
    "Seller.insertMany(sellers, () => console.log('Inserted'));\n",
    "console.log('Processing...')"
   ]
  },
  {
   "cell_type": "markdown",
   "metadata": {},
   "source": [
    "# Query 1 - Lojistas (Sellers) com maior número de produtos disponíveis na plataforma"
   ]
  },
  {
   "cell_type": "code",
   "execution_count": 9,
   "metadata": {},
   "outputs": [
    {
     "name": "stdout",
     "output_type": "stream",
     "text": [
      "Processing...\n",
      "┌─────────┬─────────────────────────────────┬────────────────────┐\n",
      "│ (index) │              name               │ productCatalogSize │\n",
      "├─────────┼─────────────────────────────────┼────────────────────┤\n",
      "│    0    │  'Walsh, Wilkinson and Reilly'  │         68         │\n",
      "│    1    │      'Shields - VonRueden'      │         67         │\n",
      "│    2    │  'Spencer, Hand and Gorczany'   │         66         │\n",
      "│    3    │          'Mohr Group'           │         66         │\n",
      "│    4    │       'Champlin - Jones'        │         65         │\n",
      "│    5    │  'Thiel, Simonis and Reinger'   │         65         │\n",
      "│    6    │           'Veum Inc'            │         65         │\n",
      "│    7    │     'Emmerich - Schroeder'      │         64         │\n",
      "│    8    │  'Dooley, Adams and Franecki'   │         64         │\n",
      "│    9    │ 'McCullough, Stehr and Hilpert' │         64         │\n",
      "└─────────┴─────────────────────────────────┴────────────────────┘\n"
     ]
    }
   ],
   "source": [
    "Seller.aggregate([\n",
    "  {\n",
    "    $project: {\n",
    "      _id: 0,\n",
    "      name: 1,\n",
    "      description: 1,  \n",
    "      productCatalogSize: { $cond: { if: { $isArray: \"$productCatalog\" }, then: { $size: \"$productCatalog\" }, else: \"NA\"} }\n",
    "    }\n",
    "  },\n",
    "  {\n",
    "    $sort : { productCatalogSize : -1 }\n",
    "  },\n",
    "  {\n",
    "    $limit: 10\n",
    "  }\n",
    "], (errors, result) => console.table(result))\n",
    "console.log('Processing...')"
   ]
  },
  {
   "cell_type": "markdown",
   "metadata": {},
   "source": [
    "# Query 2 - Produtos mais comuns entre os lojistas associados"
   ]
  },
  {
   "cell_type": "code",
   "execution_count": 13,
   "metadata": {},
   "outputs": [
    {
     "name": "stdout",
     "output_type": "stream",
     "text": [
      "Processing...\n",
      "undefined\n"
     ]
    }
   ],
   "source": [
    "Seller.aggregate([\n",
    "  {\n",
    "    $unwind: '$productCatalog'\n",
    "  },\n",
    "  {\n",
    "    $group: {\n",
    "      _id: '$productCatalog.name',\n",
    "      counts: { $sum: 1 }\n",
    "    }\n",
    "  },\n",
    "  {\n",
    "    $sort: { counts: -1 }\n",
    "  }\n",
    "], (errors, result) => console.table(result))\n",
    "console.log('Processing...')"
   ]
  },
  {
   "cell_type": "markdown",
   "metadata": {},
   "source": [
    "# Query 3 - Países com mais lojistas"
   ]
  },
  {
   "cell_type": "code",
   "execution_count": 23,
   "metadata": {},
   "outputs": [
    {
     "name": "stdout",
     "output_type": "stream",
     "text": [
      "Processing...\n",
      "┌─────────┬───────────────────────┬────────┐\n",
      "│ (index) │          _id          │ counts │\n",
      "├─────────┼───────────────────────┼────────┤\n",
      "│    0    │      'Gibraltar'      │   6    │\n",
      "│    1    │ 'Virgin Islands (US)' │   6    │\n",
      "│    2    │       'France'        │   6    │\n",
      "│    3    │  'Saint Barthélemy'   │   5    │\n",
      "│    4    │     'Guadeloupe'      │   5    │\n",
      "│    5    │       'Mexico'        │   5    │\n",
      "│    6    │       'Algeria'       │   5    │\n",
      "│    7    │   'Cayman Islands'    │   5    │\n",
      "│    8    │        'Aruba'        │   5    │\n",
      "│    9    │       'Panama'        │   5    │\n",
      "└─────────┴───────────────────────┴────────┘\n"
     ]
    }
   ],
   "source": [
    "Seller.aggregate([\n",
    "  {\n",
    "    $group: {\n",
    "      _id: '$country.name',\n",
    "      counts: { $sum: 1 }\n",
    "    }\n",
    "  },\n",
    "  {\n",
    "    $sort: { counts: -1 }\n",
    "  },\n",
    "  {\n",
    "    $limit: 10\n",
    "  }\n",
    "], (errors, result) => console.table(result))\n",
    "console.log('Processing...')"
   ]
  },
  {
   "cell_type": "markdown",
   "metadata": {},
   "source": [
    "# Query 4 - Produtos com mais lojistas por região"
   ]
  },
  {
   "cell_type": "code",
   "execution_count": 22,
   "metadata": {},
   "outputs": [
    {
     "name": "stdout",
     "output_type": "stream",
     "text": [
      "Processing...\n",
      "┌─────────┬────────────┬────────────────────────────┬────────┐\n",
      "│ (index) │    _id     │          country           │ counts │\n",
      "├─────────┼────────────┼────────────────────────────┼────────┤\n",
      "│    0    │ 'Computer' │ 'Virgin Islands (British)' │  545   │\n",
      "│    1    │   'Fish'   │         'Senegal'          │  339   │\n",
      "│    2    │ 'Chicken'  │         'Senegal'          │  538   │\n",
      "│    3    │  'Gloves'  │         'Senegal'          │  402   │\n",
      "│    4    │  'Towels'  │         'Senegal'          │  368   │\n",
      "│    5    │  'Bacon'   │         'Senegal'          │  1275  │\n",
      "│    6    │   'Car'    │         'Senegal'          │  547   │\n",
      "│    7    │ 'Keyboard' │           'Fiji'           │  561   │\n",
      "│    8    │   'Soap'   │           'Fiji'           │  745   │\n",
      "│    9    │  'Salad'   │           'Fiji'           │  1113  │\n",
      "│   10    │  'Chips'   │           'Fiji'           │  704   │\n",
      "│   11    │   'Hat'    │           'Fiji'           │  347   │\n",
      "│   12    │ 'Sausages' │           'Fiji'           │  941   │\n",
      "│   13    │   'Bike'   │           'Fiji'           │  372   │\n",
      "│   14    │  'Mouse'   │           'Fiji'           │  1300  │\n",
      "│   15    │  'Shoes'   │           'Fiji'           │  726   │\n",
      "│   16    │   'Tuna'   │           'Fiji'           │  356   │\n",
      "│   17    │  'Cheese'  │           'Fiji'           │  1097  │\n",
      "│   18    │  'Shirt'   │           'Fiji'           │  897   │\n",
      "│   19    │  'Chair'   │           'Fiji'           │  1635  │\n",
      "│   20    │  'Table'   │           'Fiji'           │  1283  │\n",
      "│   21    │  'Pizza'   │           'Fiji'           │  757   │\n",
      "│   22    │  'Pants'   │           'Fiji'           │  1104  │\n",
      "│   23    │   'Ball'   │           'Fiji'           │  325   │\n",
      "└─────────┴────────────┴────────────────────────────┴────────┘\n"
     ]
    }
   ],
   "source": [
    "Seller.aggregate([\n",
    "  {\n",
    "    $unwind: '$productCatalog'\n",
    "  },\n",
    "  {\n",
    "    $group: {\n",
    "      _id: '$productCatalog.name',\n",
    "      country: { $first : \"$country.name\" },\n",
    "      counts: { $sum: 1 },\n",
    "    }\n",
    "  },\n",
    "  {\n",
    "    $sort: { country: -1 }\n",
    "  }\n",
    "], (errors, result) => console.table(result))\n",
    "console.log('Processing...')"
   ]
  },
  {
   "cell_type": "markdown",
   "metadata": {},
   "source": [
    "# Query 5 - Lista dos lojistas (Sellers) ordenada pelos mais novos"
   ]
  },
  {
   "cell_type": "code",
   "execution_count": 21,
   "metadata": {},
   "outputs": [
    {
     "name": "stdout",
     "output_type": "stream",
     "text": [
      "Processing...\n",
      "┌─────────┬──────────────────────────────────┬──────────────────────────┐\n",
      "│ (index) │               name               │        createdAt         │\n",
      "├─────────┼──────────────────────────────────┼──────────────────────────┤\n",
      "│    0    │         'Langosh - Lang'         │ 2020-09-08T08:46:04.426Z │\n",
      "│    1    │          'Denesik LLC'           │ 2020-09-03T17:03:37.810Z │\n",
      "│    2    │     'Funk, Raynor and Fadel'     │ 2020-08-23T02:10:04.448Z │\n",
      "│    3    │    'West, Kling and Fritsch'     │ 2020-08-08T15:36:23.069Z │\n",
      "│    4    │       'Stamm - Wilderman'        │ 2020-08-01T14:42:46.099Z │\n",
      "│    5    │        'Kilback - White'         │ 2020-07-18T22:00:30.637Z │\n",
      "│    6    │ 'Ullrich, Nader and Heidenreich' │ 2020-07-04T09:50:09.776Z │\n",
      "│    7    │        'Zulauf and Sons'         │ 2020-06-28T04:21:16.961Z │\n",
      "│    8    │       'Rath - Williamson'        │ 2020-06-27T12:53:37.151Z │\n",
      "│    9    │      'Schneider - Leffler'       │ 2020-06-26T11:26:51.426Z │\n",
      "└─────────┴──────────────────────────────────┴──────────────────────────┘\n"
     ]
    }
   ],
   "source": [
    "Seller.aggregate([\n",
    "  {\n",
    "    $project: {\n",
    "      _id: 0,\n",
    "      name: 1,\n",
    "      createdAt: 1\n",
    "    }\n",
    "  },\n",
    "  {\n",
    "    $sort: { createdAt: -1 }\n",
    "  },\n",
    "  {\n",
    "    $limit: 10\n",
    "  }\n",
    "], (errors, result) => console.table(result))\n",
    "console.log('Processing...')"
   ]
  },
  {
   "cell_type": "markdown",
   "metadata": {},
   "source": [
    "# Query 6 - Lista dos lojistas (Sellers) ordenada pelos mais antiga"
   ]
  },
  {
   "cell_type": "code",
   "execution_count": 18,
   "metadata": {},
   "outputs": [
    {
     "name": "stdout",
     "output_type": "stream",
     "text": [
      "Processing...\n",
      "┌─────────┬──────────────────────────────────┬──────────────────────────┐\n",
      "│ (index) │               name               │        createdAt         │\n",
      "├─────────┼──────────────────────────────────┼──────────────────────────┤\n",
      "│    0    │         'Langosh - Lang'         │ 2020-09-08T08:46:04.426Z │\n",
      "│    1    │          'Denesik LLC'           │ 2020-09-03T17:03:37.810Z │\n",
      "│    2    │     'Funk, Raynor and Fadel'     │ 2020-08-23T02:10:04.448Z │\n",
      "│    3    │    'West, Kling and Fritsch'     │ 2020-08-08T15:36:23.069Z │\n",
      "│    4    │       'Stamm - Wilderman'        │ 2020-08-01T14:42:46.099Z │\n",
      "│    5    │        'Kilback - White'         │ 2020-07-18T22:00:30.637Z │\n",
      "│    6    │ 'Ullrich, Nader and Heidenreich' │ 2020-07-04T09:50:09.776Z │\n",
      "│    7    │        'Zulauf and Sons'         │ 2020-06-28T04:21:16.961Z │\n",
      "│    8    │       'Rath - Williamson'        │ 2020-06-27T12:53:37.151Z │\n",
      "│    9    │      'Schneider - Leffler'       │ 2020-06-26T11:26:51.426Z │\n",
      "└─────────┴──────────────────────────────────┴──────────────────────────┘\n"
     ]
    }
   ],
   "source": [
    "Seller.aggregate([\n",
    "  {\n",
    "    $project: {\n",
    "      _id: 0,\n",
    "      name: 1,\n",
    "      createdAt: 1\n",
    "    }\n",
    "  },\n",
    "  {\n",
    "    $sort: { createdAt: -1 }\n",
    "  },\n",
    "  {\n",
    "    $limit: 10\n",
    "  }\n",
    "], (errors, result) => console.table(result))\n",
    "console.log('Processing...')"
   ]
  },
  {
   "cell_type": "code",
   "execution_count": null,
   "metadata": {},
   "outputs": [],
   "source": []
  }
 ],
 "metadata": {
  "kernelspec": {
   "display_name": "Javascript (Node.js)",
   "language": "javascript",
   "name": "javascript"
  },
  "language_info": {
   "file_extension": ".js",
   "mimetype": "application/javascript",
   "name": "javascript",
   "version": "12.18.3"
  }
 },
 "nbformat": 4,
 "nbformat_minor": 4
}
