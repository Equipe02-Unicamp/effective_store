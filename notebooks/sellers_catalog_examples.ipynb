{
 "cells": [
  {
   "cell_type": "markdown",
   "metadata": {},
   "source": [
    "# Importando as bibliotecas necessárias"
   ]
  },
  {
   "cell_type": "code",
   "execution_count": null,
   "metadata": {},
   "outputs": [],
   "source": [
    "const faker = require('faker');\n",
    "const mongoose = require('mongoose');\n",
    "const _ = require('lodash');"
   ]
  },
  {
   "cell_type": "markdown",
   "metadata": {},
   "source": [
    "# Conectando a base de dados usando mongoose"
   ]
  },
  {
   "cell_type": "code",
   "execution_count": null,
   "metadata": {},
   "outputs": [],
   "source": [
    "mongoose.connect('mongodb://localhost/effective_store', { useNewUrlParser: true });"
   ]
  },
  {
   "cell_type": "markdown",
   "metadata": {},
   "source": [
    "# Definindo o schema de Sellers"
   ]
  },
  {
   "cell_type": "code",
   "execution_count": null,
   "metadata": {},
   "outputs": [],
   "source": [
    "const sellerSchema = new mongoose.Schema({\n",
    "  name: String,\n",
    "  productCatalog: [{\n",
    "    name: String,\n",
    "    price: Number\n",
    "  }]\n",
    "});"
   ]
  },
  {
   "cell_type": "markdown",
   "metadata": {},
   "source": [
    "# Definindo o model de Seller"
   ]
  },
  {
   "cell_type": "code",
   "execution_count": null,
   "metadata": {},
   "outputs": [],
   "source": [
    "const Seller = mongoose.model('Seller', sellerSchema);"
   ]
  },
  {
   "cell_type": "markdown",
   "metadata": {},
   "source": [
    "# Gerando dados de sellers"
   ]
  },
  {
   "cell_type": "code",
   "execution_count": null,
   "metadata": {},
   "outputs": [],
   "source": [
    "const SELLERS_LENGTH = 500;\n",
    "const PRODUCTS_LENGTH = 100;\n",
    "\n",
    "const availableProducts = _.range(PRODUCTS_LENGTH).map(() => ({\n",
    "  name: faker.commerce.product(),\n",
    "  price: parseFloat(faker.commerce.price())\n",
    "}));\n",
    "\n",
    "const sellers = _.range(SELLERS_LENGTH).map(() => {\n",
    "  const companyName = faker.company.companyName();\n",
    "  productCatalogSize = _.random(1, PRODUCTS_LENGTH)\n",
    "  const productCatalog = []\n",
    "  _.range(productCatalogSize).forEach(() => {\n",
    "    const productSample = _.sample(availableProducts)\n",
    "    if (!productCatalog.includes(productSample)) {\n",
    "      productCatalog.push(productSample)\n",
    "    }\n",
    "  });\n",
    "  return new Seller({ \n",
    "    name: companyName,\n",
    "    productCatalog\n",
    "  });\n",
    "});"
   ]
  },
  {
   "cell_type": "markdown",
   "metadata": {},
   "source": [
    "# Populando base de dados"
   ]
  },
  {
   "cell_type": "code",
   "execution_count": null,
   "metadata": {},
   "outputs": [],
   "source": [
    "Seller.deleteMany({}, () => console.log('Sellers cleared'));\n",
    "Seller.insertMany(sellers, () => console.log('Sellers inserteds'));"
   ]
  },
  {
   "cell_type": "code",
   "execution_count": null,
   "metadata": {},
   "outputs": [],
   "source": [
    "Seller.findOne({}, (err, result) => console.log(result))"
   ]
  },
  {
   "cell_type": "code",
   "execution_count": null,
   "metadata": {},
   "outputs": [],
   "source": []
  }
 ],
 "metadata": {
  "kernelspec": {
   "display_name": "Javascript (Node.js)",
   "language": "javascript",
   "name": "javascript"
  },
  "language_info": {
   "file_extension": ".js",
   "mimetype": "application/javascript",
   "name": "javascript",
   "version": "12.18.3"
  }
 },
 "nbformat": 4,
 "nbformat_minor": 4
}
