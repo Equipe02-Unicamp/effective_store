{
 "cells": [
  {
   "cell_type": "markdown",
   "metadata": {},
   "source": [
    "# Importando as bibliotecas necessárias"
   ]
  },
  {
   "cell_type": "code",
   "execution_count": 1,
   "metadata": {},
   "outputs": [],
   "source": [
    "const faker = require('faker');\n",
    "const mongoose = require('mongoose');\n",
    "const _ = require('lodash');"
   ]
  },
  {
   "cell_type": "markdown",
   "metadata": {},
   "source": [
    "# Conectando a base de dados usando mongoose"
   ]
  },
  {
   "cell_type": "code",
   "execution_count": 2,
   "metadata": {},
   "outputs": [
    {
     "name": "stdout",
     "output_type": "stream",
     "text": [
      "Connecting...\n"
     ]
    },
    {
     "name": "stderr",
     "output_type": "stream",
     "text": [
      "(node:191) DeprecationWarning: current Server Discovery and Monitoring engine is deprecated, and will be removed in a future version. To use the new Server Discover and Monitoring engine, pass option { useUnifiedTopology: true } to the MongoClient constructor.\n"
     ]
    },
    {
     "name": "stdout",
     "output_type": "stream",
     "text": [
      "Connected\n"
     ]
    }
   ],
   "source": [
    "mongoose.connect('mongodb://localhost/effective_store', { useNewUrlParser: true }).then(() => console.log('Connected'));\n",
    "console.log('Connecting...')"
   ]
  },
  {
   "cell_type": "markdown",
   "metadata": {},
   "source": [
    "# Definindo o schema de Sellers"
   ]
  },
  {
   "cell_type": "code",
   "execution_count": 3,
   "metadata": {},
   "outputs": [],
   "source": [
    "const sellerSchema = new mongoose.Schema({\n",
    "  name: String,\n",
    "  country: String,\n",
    "  productCatalog: [{\n",
    "    name: String,\n",
    "    price: Number\n",
    "  }]\n",
    "});"
   ]
  },
  {
   "cell_type": "markdown",
   "metadata": {},
   "source": [
    "# Definindo o model de Seller"
   ]
  },
  {
   "cell_type": "code",
   "execution_count": 4,
   "metadata": {},
   "outputs": [],
   "source": [
    "const Seller = mongoose.model('Seller', sellerSchema);"
   ]
  },
  {
   "cell_type": "markdown",
   "metadata": {},
   "source": [
    "# Gerando dados de sellers"
   ]
  },
  {
   "cell_type": "code",
   "execution_count": 5,
   "metadata": {},
   "outputs": [],
   "source": [
    "const SELLERS_LENGTH = 500;\n",
    "const PRODUCTS_LENGTH = 100;\n",
    "\n",
    "const availableProducts = _.range(PRODUCTS_LENGTH).map(() => ({\n",
    "  name: faker.commerce.product(),\n",
    "  price: parseFloat(faker.commerce.price())\n",
    "}));\n",
    "\n",
    "const sellers = _.range(SELLERS_LENGTH).map(() => {\n",
    "  const productCatalogSize = _.random(1, PRODUCTS_LENGTH)\n",
    "  const productCatalog = []\n",
    "  _.range(productCatalogSize).forEach(() => {\n",
    "    const productSample = _.sample(availableProducts)\n",
    "    if (!productCatalog.includes(productSample)) {\n",
    "      productCatalog.push(productSample)\n",
    "    }\n",
    "  });\n",
    "  return new Seller({ \n",
    "    name: faker.company.companyName(),\n",
    "    country: faker.address.country(),\n",
    "    productCatalog\n",
    "  });\n",
    "});"
   ]
  },
  {
   "cell_type": "markdown",
   "metadata": {},
   "source": [
    "# Populando base de dados"
   ]
  },
  {
   "cell_type": "code",
   "execution_count": 6,
   "metadata": {},
   "outputs": [
    {
     "name": "stdout",
     "output_type": "stream",
     "text": [
      "Processing...\n",
      "cleared\n",
      "Inserted\n"
     ]
    }
   ],
   "source": [
    "Seller.deleteMany({}, () => console.log('cleared'));\n",
    "Seller.insertMany(sellers, () => console.log('Inserted'));\n",
    "console.log('Processing...')"
   ]
  },
  {
   "cell_type": "markdown",
   "metadata": {},
   "source": [
    "# Testando um único resultado"
   ]
  },
  {
   "cell_type": "code",
   "execution_count": 9,
   "metadata": {},
   "outputs": [
    {
     "name": "stdout",
     "output_type": "stream",
     "text": [
      "Processing...\n",
      "{\n",
      "  name: 'Satterfield LLC',\n",
      "  country: 'Brazil',\n",
      "  productCatalog: [\n",
      "    { name: 'Soap', price: 289 },\n",
      "    { name: 'Tuna', price: 364 },\n",
      "    { name: 'Pants', price: 424 },\n",
      "    { name: 'Salad', price: 84 },\n",
      "    { name: 'Pants', price: 378 },\n",
      "    { name: 'Shoes', price: 569 },\n",
      "    { name: 'Pizza', price: 328 },\n",
      "    { name: 'Towels', price: 520 },\n",
      "    { name: 'Gloves', price: 566 },\n",
      "    { name: 'Towels', price: 124 },\n",
      "    { name: 'Salad', price: 236 },\n",
      "    { name: 'Cheese', price: 466 },\n",
      "    { name: 'Table', price: 656 },\n",
      "    { name: 'Mouse', price: 20 },\n",
      "    { name: 'Computer', price: 222 },\n",
      "    { name: 'Computer', price: 244 },\n",
      "    { name: 'Keyboard', price: 885 },\n",
      "    { name: 'Ball', price: 573 },\n",
      "    { name: 'Soap', price: 199 },\n",
      "    { name: 'Chair', price: 529 },\n",
      "    { name: 'Bacon', price: 386 },\n",
      "    { name: 'Bacon', price: 430 },\n",
      "    { name: 'Pizza', price: 364 },\n",
      "    { name: 'Tuna', price: 834 },\n",
      "    { name: 'Chips', price: 158 },\n",
      "    { name: 'Towels', price: 983 },\n",
      "    { name: 'Sausages', price: 336 },\n",
      "    { name: 'Soap', price: 659 },\n",
      "    { name: 'Bacon', price: 276 },\n",
      "    { name: 'Shirt', price: 550 },\n",
      "    { name: 'Car', price: 68 },\n",
      "    { name: 'Shirt', price: 12 },\n",
      "    { name: 'Chips', price: 815 },\n",
      "    { name: 'Chicken', price: 897 },\n",
      "    { name: 'Fish', price: 151 },\n",
      "    { name: 'Fish', price: 138 },\n",
      "    { name: 'Shirt', price: 177 },\n",
      "    { name: 'Computer', price: 145 },\n",
      "    { name: 'Towels', price: 511 }\n",
      "  ],\n",
      "  __v: 0\n",
      "}\n"
     ]
    }
   ],
   "source": [
    "Seller.findOne({}, { _id: 0, productCatalog: { _id: 0 } }, (err, result) => console.log(result))\n",
    "console.log('Processing...')"
   ]
  },
  {
   "cell_type": "markdown",
   "metadata": {},
   "source": [
    "# Query 1 - Lojistas com maior número de produtos disponíveis na plataforma"
   ]
  },
  {
   "cell_type": "code",
   "execution_count": 24,
   "metadata": {},
   "outputs": [
    {
     "ename": "Error",
     "evalue": "Arguments must be aggregate pipeline operators",
     "execution_count": 24,
     "output_type": "error",
     "traceback": [
      "/jupyter/data/node_modules/mongoose/lib/aggregate.js:142",
      "    throw new Error('Arguments must be aggregate pipeline operators');",
      "    ^",
      "",
      "Error: Arguments must be aggregate pipeline operators",
      "    at Aggregate.append (/jupyter/data/node_modules/mongoose/lib/aggregate.js:142:11)",
      "    at new Aggregate (/jupyter/data/node_modules/mongoose/lib/aggregate.js:56:17)",
      "    at Function.aggregate (/jupyter/data/node_modules/mongoose/lib/model.js:3943:21)",
      "    at evalmachine.<anonymous>:1:8",
      "    at Script.runInThisContext (vm.js:120:18)",
      "    at Object.runInThisContext (vm.js:309:38)",
      "    at run ([eval]:1054:15)",
      "    at onRunRequest ([eval]:888:18)",
      "    at onMessage ([eval]:848:13)",
      "    at process.emit (events.js:315:20)",
      "    at emit (internal/child_process.js:876:12)",
      "    at processTicksAndRejections (internal/process/task_queues.js:85:21)"
     ]
    }
   ],
   "source": [
    "Seller.aggregate([\n",
    "   {\n",
    "      $project: {\n",
    "         _id: 0,\n",
    "         name: 1,\n",
    "         productCatalogSize: { $cond: { if: { $isArray: \"$productCatalog\" }, then: { $size: \"$productCatalog\" }, else: \"NA\"} }\n",
    "      }\n",
    "   },\n",
    "   {\n",
    "    \n",
    "   }\n",
    "], (errors, result) => console.log(result))\n",
    "console.log('Processing...')"
   ]
  },
  {
   "cell_type": "code",
   "execution_count": null,
   "metadata": {},
   "outputs": [],
   "source": []
  },
  {
   "cell_type": "code",
   "execution_count": null,
   "metadata": {},
   "outputs": [],
   "source": []
  }
 ],
 "metadata": {
  "kernelspec": {
   "display_name": "Javascript (Node.js)",
   "language": "javascript",
   "name": "javascript"
  },
  "language_info": {
   "file_extension": ".js",
   "mimetype": "application/javascript",
   "name": "javascript",
   "version": "12.18.3"
  }
 },
 "nbformat": 4,
 "nbformat_minor": 4
}
